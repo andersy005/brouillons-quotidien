{
 "cells": [
  {
   "cell_type": "code",
   "execution_count": 1,
   "id": "interesting-presence",
   "metadata": {},
   "outputs": [],
   "source": [
    "import socket"
   ]
  },
  {
   "cell_type": "code",
   "execution_count": 2,
   "id": "afraid-jonathan",
   "metadata": {},
   "outputs": [
    {
     "data": {
      "text/plain": [
       "'crhtc46'"
      ]
     },
     "execution_count": 2,
     "metadata": {},
     "output_type": "execute_result"
    }
   ],
   "source": [
    "socket.gethostname()"
   ]
  },
  {
   "cell_type": "code",
   "execution_count": 3,
   "id": "excited-compensation",
   "metadata": {},
   "outputs": [
    {
     "data": {
      "text/plain": [
       "'crhtc46.hpc.ucar.edu'"
      ]
     },
     "execution_count": 3,
     "metadata": {},
     "output_type": "execute_result"
    }
   ],
   "source": [
    "socket.getfqdn()"
   ]
  },
  {
   "cell_type": "code",
   "execution_count": null,
   "id": "abroad-shield",
   "metadata": {},
   "outputs": [],
   "source": []
  }
 ],
 "metadata": {
  "kernelspec": {
   "display_name": "Python [conda env:miniconda-playground]",
   "language": "python",
   "name": "conda-env-miniconda-playground-py"
  },
  "language_info": {
   "codemirror_mode": {
    "name": "ipython",
    "version": 3
   },
   "file_extension": ".py",
   "mimetype": "text/x-python",
   "name": "python",
   "nbconvert_exporter": "python",
   "pygments_lexer": "ipython3",
   "version": "3.8.8"
  },
  "widgets": {
   "application/vnd.jupyter.widget-state+json": {
    "state": {},
    "version_major": 2,
    "version_minor": 0
   }
  }
 },
 "nbformat": 4,
 "nbformat_minor": 5
}
