{
 "cells": [
  {
   "cell_type": "markdown",
   "id": "tropical-thomas",
   "metadata": {},
   "source": [
    "# Dask Adaptive Scaling"
   ]
  },
  {
   "cell_type": "code",
   "execution_count": 1,
   "id": "excellent-commodity",
   "metadata": {},
   "outputs": [],
   "source": [
    "from ncar_jobqueue import NCARCluster"
   ]
  },
  {
   "cell_type": "code",
   "execution_count": 3,
   "id": "motivated-tract",
   "metadata": {},
   "outputs": [
    {
     "name": "stderr",
     "output_type": "stream",
     "text": [
      "/glade/work/abanihi/opt/miniconda/envs/playground/lib/python3.8/site-packages/distributed/node.py:151: UserWarning: Port 8787 is already in use.\n",
      "Perhaps you already have a cluster running?\n",
      "Hosting the HTTP server on port 39026 instead\n",
      "  warnings.warn(\n"
     ]
    },
    {
     "data": {
      "application/vnd.jupyter.widget-view+json": {
       "model_id": "5e051d39c20d458ebb9b056180b87b62",
       "version_major": 2,
       "version_minor": 0
      },
      "text/plain": [
       "VBox(children=(HTML(value='<h2>PBSCluster</h2>'), HBox(children=(HTML(value='\\n<div>\\n  <style scoped>\\n    .d…"
      ]
     },
     "metadata": {},
     "output_type": "display_data"
    }
   ],
   "source": [
    "cluster = NCARCluster(\n",
    "    cores=2,\n",
    "    processes=1,\n",
    "    queue=\"casper\",\n",
    "    walltime=\"00:30:00\",\n",
    "    resource_spec=\"select=1:ncpus=1:mem=10GB\",\n",
    ")\n",
    "cluster"
   ]
  },
  {
   "cell_type": "markdown",
   "id": "significant-diamond",
   "metadata": {},
   "source": [
    "## Batch Job Script"
   ]
  },
  {
   "cell_type": "code",
   "execution_count": 4,
   "id": "governmental-upset",
   "metadata": {},
   "outputs": [
    {
     "name": "stdout",
     "output_type": "stream",
     "text": [
      "#!/usr/bin/env bash\n",
      "\n",
      "#PBS -N dask-worker-casper-dav\n",
      "#PBS -q casper\n",
      "#PBS -A NIOW0001\n",
      "#PBS -l select=1:ncpus=1:mem=10GB\n",
      "#PBS -l walltime=00:30:00\n",
      "#PBS -e /glade/scratch/abanihi/dask/casper-dav/logs/\n",
      "#PBS -o /glade/scratch/abanihi/dask/casper-dav/logs/\n",
      "\n",
      "/glade/work/abanihi/opt/miniconda/envs/playground/bin/python -m distributed.cli.dask_worker tcp://10.12.206.47:42170 --nthreads 2 --memory-limit 93.13GiB --name dummy-name --nanny --death-timeout 60 --local-directory /glade/scratch/abanihi/dask/casper-dav/local-dir --interface ib0 --protocol tcp://\n",
      "\n"
     ]
    }
   ],
   "source": [
    "print(cluster.job_script())"
   ]
  },
  {
   "cell_type": "markdown",
   "id": "decreased-healthcare",
   "metadata": {},
   "source": [
    "## Cluster Scaling APIs"
   ]
  },
  {
   "cell_type": "code",
   "execution_count": 5,
   "id": "furnished-blood",
   "metadata": {},
   "outputs": [],
   "source": [
    "cluster.scale(5)"
   ]
  },
  {
   "cell_type": "code",
   "execution_count": 6,
   "id": "southeast-geometry",
   "metadata": {},
   "outputs": [],
   "source": [
    "cluster.scale(jobs=1)"
   ]
  },
  {
   "cell_type": "code",
   "execution_count": 31,
   "id": "acute-title",
   "metadata": {},
   "outputs": [
    {
     "data": {
      "text/plain": [
       "<distributed.deploy.adaptive.Adaptive at 0x2af9ca6c25b0>"
      ]
     },
     "execution_count": 31,
     "metadata": {},
     "output_type": "execute_result"
    }
   ],
   "source": [
    "cluster.adapt(minimum_jobs=1, maximum_jobs=20)"
   ]
  },
  {
   "cell_type": "markdown",
   "id": "genetic-restriction",
   "metadata": {},
   "source": [
    "## Connect cluster to the client"
   ]
  },
  {
   "cell_type": "code",
   "execution_count": 8,
   "id": "spoken-david",
   "metadata": {},
   "outputs": [],
   "source": [
    "from distributed import Client\n",
    "\n",
    "client = Client(cluster)"
   ]
  },
  {
   "cell_type": "markdown",
   "id": "considered-corpus",
   "metadata": {},
   "source": [
    "## Run some computation"
   ]
  },
  {
   "cell_type": "code",
   "execution_count": 32,
   "id": "worth-reducing",
   "metadata": {},
   "outputs": [
    {
     "data": {
      "text/html": [
       "<table>\n",
       "<tr>\n",
       "<td>\n",
       "<table>\n",
       "  <thead>\n",
       "    <tr><td> </td><th> Array </th><th> Chunk </th></tr>\n",
       "  </thead>\n",
       "  <tbody>\n",
       "    <tr><th> Bytes </th><td> 74.51 GiB </td> <td> 152.59 MiB </td></tr>\n",
       "    <tr><th> Shape </th><td> (200, 10000, 5000) </td> <td> (20, 1000, 1000) </td></tr>\n",
       "    <tr><th> Count </th><td> 500 Tasks </td><td> 500 Chunks </td></tr>\n",
       "    <tr><th> Type </th><td> float64 </td><td> numpy.ndarray </td></tr>\n",
       "  </tbody>\n",
       "</table>\n",
       "</td>\n",
       "<td>\n",
       "<svg width=\"137\" height=\"187\" style=\"stroke:rgb(0,0,0);stroke-width:1\" >\n",
       "\n",
       "  <!-- Horizontal lines -->\n",
       "  <line x1=\"10\" y1=\"0\" x2=\"27\" y2=\"17\" style=\"stroke-width:2\" />\n",
       "  <line x1=\"10\" y1=\"12\" x2=\"27\" y2=\"29\" />\n",
       "  <line x1=\"10\" y1=\"24\" x2=\"27\" y2=\"41\" />\n",
       "  <line x1=\"10\" y1=\"36\" x2=\"27\" y2=\"53\" />\n",
       "  <line x1=\"10\" y1=\"48\" x2=\"27\" y2=\"65\" />\n",
       "  <line x1=\"10\" y1=\"60\" x2=\"27\" y2=\"77\" />\n",
       "  <line x1=\"10\" y1=\"72\" x2=\"27\" y2=\"89\" />\n",
       "  <line x1=\"10\" y1=\"84\" x2=\"27\" y2=\"101\" />\n",
       "  <line x1=\"10\" y1=\"96\" x2=\"27\" y2=\"113\" />\n",
       "  <line x1=\"10\" y1=\"108\" x2=\"27\" y2=\"125\" />\n",
       "  <line x1=\"10\" y1=\"120\" x2=\"27\" y2=\"137\" style=\"stroke-width:2\" />\n",
       "\n",
       "  <!-- Vertical lines -->\n",
       "  <line x1=\"10\" y1=\"0\" x2=\"10\" y2=\"120\" style=\"stroke-width:2\" />\n",
       "  <line x1=\"11\" y1=\"1\" x2=\"11\" y2=\"121\" />\n",
       "  <line x1=\"13\" y1=\"3\" x2=\"13\" y2=\"123\" />\n",
       "  <line x1=\"15\" y1=\"5\" x2=\"15\" y2=\"125\" />\n",
       "  <line x1=\"16\" y1=\"6\" x2=\"16\" y2=\"126\" />\n",
       "  <line x1=\"18\" y1=\"8\" x2=\"18\" y2=\"128\" />\n",
       "  <line x1=\"20\" y1=\"10\" x2=\"20\" y2=\"130\" />\n",
       "  <line x1=\"21\" y1=\"11\" x2=\"21\" y2=\"131\" />\n",
       "  <line x1=\"23\" y1=\"13\" x2=\"23\" y2=\"133\" />\n",
       "  <line x1=\"25\" y1=\"15\" x2=\"25\" y2=\"135\" />\n",
       "  <line x1=\"27\" y1=\"17\" x2=\"27\" y2=\"137\" style=\"stroke-width:2\" />\n",
       "\n",
       "  <!-- Colored Rectangle -->\n",
       "  <polygon points=\"10.0,0.0 27.076840594396398,17.076840594396398 27.076840594396398,137.0768405943964 10.0,120.0\" style=\"fill:#ECB172A0;stroke-width:0\"/>\n",
       "\n",
       "  <!-- Horizontal lines -->\n",
       "  <line x1=\"10\" y1=\"0\" x2=\"70\" y2=\"0\" style=\"stroke-width:2\" />\n",
       "  <line x1=\"11\" y1=\"1\" x2=\"71\" y2=\"1\" />\n",
       "  <line x1=\"13\" y1=\"3\" x2=\"73\" y2=\"3\" />\n",
       "  <line x1=\"15\" y1=\"5\" x2=\"75\" y2=\"5\" />\n",
       "  <line x1=\"16\" y1=\"6\" x2=\"76\" y2=\"6\" />\n",
       "  <line x1=\"18\" y1=\"8\" x2=\"78\" y2=\"8\" />\n",
       "  <line x1=\"20\" y1=\"10\" x2=\"80\" y2=\"10\" />\n",
       "  <line x1=\"21\" y1=\"11\" x2=\"81\" y2=\"11\" />\n",
       "  <line x1=\"23\" y1=\"13\" x2=\"83\" y2=\"13\" />\n",
       "  <line x1=\"25\" y1=\"15\" x2=\"85\" y2=\"15\" />\n",
       "  <line x1=\"27\" y1=\"17\" x2=\"87\" y2=\"17\" style=\"stroke-width:2\" />\n",
       "\n",
       "  <!-- Vertical lines -->\n",
       "  <line x1=\"10\" y1=\"0\" x2=\"27\" y2=\"17\" style=\"stroke-width:2\" />\n",
       "  <line x1=\"22\" y1=\"0\" x2=\"39\" y2=\"17\" />\n",
       "  <line x1=\"34\" y1=\"0\" x2=\"51\" y2=\"17\" />\n",
       "  <line x1=\"46\" y1=\"0\" x2=\"63\" y2=\"17\" />\n",
       "  <line x1=\"58\" y1=\"0\" x2=\"75\" y2=\"17\" />\n",
       "  <line x1=\"70\" y1=\"0\" x2=\"87\" y2=\"17\" style=\"stroke-width:2\" />\n",
       "\n",
       "  <!-- Colored Rectangle -->\n",
       "  <polygon points=\"10.0,0.0 70.0,0.0 87.0768405943964,17.076840594396398 27.076840594396398,17.076840594396398\" style=\"fill:#ECB172A0;stroke-width:0\"/>\n",
       "\n",
       "  <!-- Horizontal lines -->\n",
       "  <line x1=\"27\" y1=\"17\" x2=\"87\" y2=\"17\" style=\"stroke-width:2\" />\n",
       "  <line x1=\"27\" y1=\"29\" x2=\"87\" y2=\"29\" />\n",
       "  <line x1=\"27\" y1=\"41\" x2=\"87\" y2=\"41\" />\n",
       "  <line x1=\"27\" y1=\"53\" x2=\"87\" y2=\"53\" />\n",
       "  <line x1=\"27\" y1=\"65\" x2=\"87\" y2=\"65\" />\n",
       "  <line x1=\"27\" y1=\"77\" x2=\"87\" y2=\"77\" />\n",
       "  <line x1=\"27\" y1=\"89\" x2=\"87\" y2=\"89\" />\n",
       "  <line x1=\"27\" y1=\"101\" x2=\"87\" y2=\"101\" />\n",
       "  <line x1=\"27\" y1=\"113\" x2=\"87\" y2=\"113\" />\n",
       "  <line x1=\"27\" y1=\"125\" x2=\"87\" y2=\"125\" />\n",
       "  <line x1=\"27\" y1=\"137\" x2=\"87\" y2=\"137\" style=\"stroke-width:2\" />\n",
       "\n",
       "  <!-- Vertical lines -->\n",
       "  <line x1=\"27\" y1=\"17\" x2=\"27\" y2=\"137\" style=\"stroke-width:2\" />\n",
       "  <line x1=\"39\" y1=\"17\" x2=\"39\" y2=\"137\" />\n",
       "  <line x1=\"51\" y1=\"17\" x2=\"51\" y2=\"137\" />\n",
       "  <line x1=\"63\" y1=\"17\" x2=\"63\" y2=\"137\" />\n",
       "  <line x1=\"75\" y1=\"17\" x2=\"75\" y2=\"137\" />\n",
       "  <line x1=\"87\" y1=\"17\" x2=\"87\" y2=\"137\" style=\"stroke-width:2\" />\n",
       "\n",
       "  <!-- Colored Rectangle -->\n",
       "  <polygon points=\"27.076840594396398,17.076840594396398 87.0768405943964,17.076840594396398 87.0768405943964,137.0768405943964 27.076840594396398,137.0768405943964\" style=\"fill:#ECB172A0;stroke-width:0\"/>\n",
       "\n",
       "  <!-- Text -->\n",
       "  <text x=\"57.076841\" y=\"157.076841\" font-size=\"1.0rem\" font-weight=\"100\" text-anchor=\"middle\" >5000</text>\n",
       "  <text x=\"107.076841\" y=\"77.076841\" font-size=\"1.0rem\" font-weight=\"100\" text-anchor=\"middle\" transform=\"rotate(-90,107.076841,77.076841)\">10000</text>\n",
       "  <text x=\"8.538420\" y=\"148.538420\" font-size=\"1.0rem\" font-weight=\"100\" text-anchor=\"middle\" transform=\"rotate(45,8.538420,148.538420)\">200</text>\n",
       "</svg>\n",
       "</td>\n",
       "</tr>\n",
       "</table>"
      ],
      "text/plain": [
       "dask.array<random_sample, shape=(200, 10000, 5000), dtype=float64, chunksize=(20, 1000, 1000), chunktype=numpy.ndarray>"
      ]
     },
     "execution_count": 32,
     "metadata": {},
     "output_type": "execute_result"
    }
   ],
   "source": [
    "import dask.array as da\n",
    "\n",
    "x = da.random.random((200, 10_000, 5_000), chunks=(20, 1_000, 1_000))\n",
    "x"
   ]
  },
  {
   "cell_type": "code",
   "execution_count": 33,
   "id": "external-nightmare",
   "metadata": {},
   "outputs": [
    {
     "data": {
      "text/html": [
       "<table>\n",
       "<tr>\n",
       "<td>\n",
       "<table>\n",
       "  <thead>\n",
       "    <tr><td> </td><th> Array </th><th> Chunk </th></tr>\n",
       "  </thead>\n",
       "  <tbody>\n",
       "    <tr><th> Bytes </th><td> 381.47 MiB </td> <td> 7.63 MiB </td></tr>\n",
       "    <tr><th> Shape </th><td> (10000, 5000) </td> <td> (1000, 1000) </td></tr>\n",
       "    <tr><th> Count </th><td> 50 Tasks </td><td> 50 Chunks </td></tr>\n",
       "    <tr><th> Type </th><td> float64 </td><td> numpy.ndarray </td></tr>\n",
       "  </tbody>\n",
       "</table>\n",
       "</td>\n",
       "<td>\n",
       "<svg width=\"110\" height=\"170\" style=\"stroke:rgb(0,0,0);stroke-width:1\" >\n",
       "\n",
       "  <!-- Horizontal lines -->\n",
       "  <line x1=\"0\" y1=\"0\" x2=\"60\" y2=\"0\" style=\"stroke-width:2\" />\n",
       "  <line x1=\"0\" y1=\"12\" x2=\"60\" y2=\"12\" />\n",
       "  <line x1=\"0\" y1=\"24\" x2=\"60\" y2=\"24\" />\n",
       "  <line x1=\"0\" y1=\"36\" x2=\"60\" y2=\"36\" />\n",
       "  <line x1=\"0\" y1=\"48\" x2=\"60\" y2=\"48\" />\n",
       "  <line x1=\"0\" y1=\"60\" x2=\"60\" y2=\"60\" />\n",
       "  <line x1=\"0\" y1=\"72\" x2=\"60\" y2=\"72\" />\n",
       "  <line x1=\"0\" y1=\"84\" x2=\"60\" y2=\"84\" />\n",
       "  <line x1=\"0\" y1=\"96\" x2=\"60\" y2=\"96\" />\n",
       "  <line x1=\"0\" y1=\"108\" x2=\"60\" y2=\"108\" />\n",
       "  <line x1=\"0\" y1=\"120\" x2=\"60\" y2=\"120\" style=\"stroke-width:2\" />\n",
       "\n",
       "  <!-- Vertical lines -->\n",
       "  <line x1=\"0\" y1=\"0\" x2=\"0\" y2=\"120\" style=\"stroke-width:2\" />\n",
       "  <line x1=\"12\" y1=\"0\" x2=\"12\" y2=\"120\" />\n",
       "  <line x1=\"24\" y1=\"0\" x2=\"24\" y2=\"120\" />\n",
       "  <line x1=\"36\" y1=\"0\" x2=\"36\" y2=\"120\" />\n",
       "  <line x1=\"48\" y1=\"0\" x2=\"48\" y2=\"120\" />\n",
       "  <line x1=\"60\" y1=\"0\" x2=\"60\" y2=\"120\" style=\"stroke-width:2\" />\n",
       "\n",
       "  <!-- Colored Rectangle -->\n",
       "  <polygon points=\"0.0,0.0 60.0,0.0 60.0,120.0 0.0,120.0\" style=\"fill:#ECB172A0;stroke-width:0\"/>\n",
       "\n",
       "  <!-- Text -->\n",
       "  <text x=\"30.000000\" y=\"140.000000\" font-size=\"1.0rem\" font-weight=\"100\" text-anchor=\"middle\" >5000</text>\n",
       "  <text x=\"80.000000\" y=\"60.000000\" font-size=\"1.0rem\" font-weight=\"100\" text-anchor=\"middle\" transform=\"rotate(-90,80.000000,60.000000)\">10000</text>\n",
       "</svg>\n",
       "</td>\n",
       "</tr>\n",
       "</table>"
      ],
      "text/plain": [
       "dask.array<_sqrt, shape=(10000, 5000), dtype=float64, chunksize=(1000, 1000), chunktype=numpy.ndarray>"
      ]
     },
     "execution_count": 33,
     "metadata": {},
     "output_type": "execute_result"
    }
   ],
   "source": [
    "y = x.std(axis=0)\n",
    "y = y.persist()\n",
    "y"
   ]
  },
  {
   "cell_type": "code",
   "execution_count": null,
   "id": "boolean-insured",
   "metadata": {},
   "outputs": [],
   "source": []
  }
 ],
 "metadata": {
  "kernelspec": {
   "display_name": "Python [conda env:miniconda-playground]",
   "language": "python",
   "name": "conda-env-miniconda-playground-py"
  },
  "language_info": {
   "codemirror_mode": {
    "name": "ipython",
    "version": 3
   },
   "file_extension": ".py",
   "mimetype": "text/x-python",
   "name": "python",
   "nbconvert_exporter": "python",
   "pygments_lexer": "ipython3",
   "version": "3.8.8"
  },
  "widgets": {
   "application/vnd.jupyter.widget-state+json": {
    "state": {
     "0113a6ce7a1d4193aa956b95d19a2cce": {
      "model_module": "@jupyter-widgets/controls",
      "model_module_version": "1.5.0",
      "model_name": "IntTextModel",
      "state": {
       "description": "Workers",
       "layout": "IPY_MODEL_7c5595d285384caaa0a9c71d946425ec",
       "step": 1,
       "style": "IPY_MODEL_caefe99ada6d4650a293dc3fa73e87da"
      }
     },
     "0c63f691ff2c4538a7da9ca93888ee2e": {
      "model_module": "@jupyter-widgets/controls",
      "model_module_version": "1.5.0",
      "model_name": "DescriptionStyleModel",
      "state": {
       "description_width": ""
      }
     },
     "0ffa05241ab84e13a101f638291fb223": {
      "model_module": "@jupyter-widgets/controls",
      "model_module_version": "1.5.0",
      "model_name": "AccordionModel",
      "state": {
       "_titles": {
        "0": "Manual Scaling",
        "1": "Adaptive Scaling"
       },
       "children": [
        "IPY_MODEL_74aefd46d72348a282cb2ed65fa23a3b",
        "IPY_MODEL_88de9cf83ed7433cb350f6c4e8401dd5"
       ],
       "layout": "IPY_MODEL_daa9385cb9e643d78a4f5d7ad940d3c5"
      }
     },
     "2064ac9af0f842c59affc6c633cf7d62": {
      "model_module": "@jupyter-widgets/base",
      "model_module_version": "1.2.0",
      "model_name": "LayoutModel",
      "state": {}
     },
     "31f6852fa5004159882859c0b6ece8f5": {
      "model_module": "@jupyter-widgets/controls",
      "model_module_version": "1.5.0",
      "model_name": "HBoxModel",
      "state": {
       "children": [
        "IPY_MODEL_fc1034c79b5944b195e6e35bf32eb95b",
        "IPY_MODEL_0ffa05241ab84e13a101f638291fb223"
       ],
       "layout": "IPY_MODEL_86d70df690d345c7aec7e418bd824919"
      }
     },
     "35084f63e7b040d3be278b6bff9baee0": {
      "model_module": "@jupyter-widgets/controls",
      "model_module_version": "1.5.0",
      "model_name": "DescriptionStyleModel",
      "state": {
       "description_width": ""
      }
     },
     "376d92cdc8b04329ba64fad3aa07afaf": {
      "model_module": "@jupyter-widgets/base",
      "model_module_version": "1.2.0",
      "model_name": "LayoutModel",
      "state": {}
     },
     "483851f0cbe94090962aa364ef498617": {
      "model_module": "@jupyter-widgets/base",
      "model_module_version": "1.2.0",
      "model_name": "LayoutModel",
      "state": {}
     },
     "52d49d374a2e41edb2b470731af89d13": {
      "model_module": "@jupyter-widgets/base",
      "model_module_version": "1.2.0",
      "model_name": "LayoutModel",
      "state": {
       "min_width": "150px"
      }
     },
     "5505eb916d4444e1ae21d02e398083fc": {
      "model_module": "@jupyter-widgets/base",
      "model_module_version": "1.2.0",
      "model_name": "LayoutModel",
      "state": {}
     },
     "57b6d6b0b9b74ee7826d295a1953ec6b": {
      "model_module": "@jupyter-widgets/base",
      "model_module_version": "1.2.0",
      "model_name": "LayoutModel",
      "state": {}
     },
     "57fbf0c4b5c642fea2b5d9867401e17f": {
      "model_module": "@jupyter-widgets/controls",
      "model_module_version": "1.5.0",
      "model_name": "ButtonModel",
      "state": {
       "description": "Adapt",
       "layout": "IPY_MODEL_7c5595d285384caaa0a9c71d946425ec",
       "style": "IPY_MODEL_def5aa083aba407cbd023b324bcafea0"
      }
     },
     "5e051d39c20d458ebb9b056180b87b62": {
      "model_module": "@jupyter-widgets/controls",
      "model_module_version": "1.5.0",
      "model_name": "VBoxModel",
      "state": {
       "children": [
        "IPY_MODEL_6965a3ca9bde44d89c411f94e7f08327",
        "IPY_MODEL_31f6852fa5004159882859c0b6ece8f5",
        "IPY_MODEL_eb4d31658b2b4e4a99439462fe40c01f"
       ],
       "layout": "IPY_MODEL_57b6d6b0b9b74ee7826d295a1953ec6b"
      }
     },
     "6965a3ca9bde44d89c411f94e7f08327": {
      "model_module": "@jupyter-widgets/controls",
      "model_module_version": "1.5.0",
      "model_name": "HTMLModel",
      "state": {
       "layout": "IPY_MODEL_5505eb916d4444e1ae21d02e398083fc",
       "style": "IPY_MODEL_f4079b5cce854fc1b0ba49ed5465a298",
       "value": "<h2>PBSCluster</h2>"
      }
     },
     "74aefd46d72348a282cb2ed65fa23a3b": {
      "model_module": "@jupyter-widgets/controls",
      "model_module_version": "1.5.0",
      "model_name": "HBoxModel",
      "state": {
       "children": [
        "IPY_MODEL_0113a6ce7a1d4193aa956b95d19a2cce",
        "IPY_MODEL_ec47293501ac43ed9bd4164b98c9196f"
       ],
       "layout": "IPY_MODEL_483851f0cbe94090962aa364ef498617"
      }
     },
     "7c5595d285384caaa0a9c71d946425ec": {
      "model_module": "@jupyter-widgets/base",
      "model_module_version": "1.2.0",
      "model_name": "LayoutModel",
      "state": {
       "width": "150px"
      }
     },
     "7d5bc389bce24c549c8b5c00ed2d246f": {
      "model_module": "@jupyter-widgets/controls",
      "model_module_version": "1.5.0",
      "model_name": "DescriptionStyleModel",
      "state": {
       "description_width": ""
      }
     },
     "86d70df690d345c7aec7e418bd824919": {
      "model_module": "@jupyter-widgets/base",
      "model_module_version": "1.2.0",
      "model_name": "LayoutModel",
      "state": {}
     },
     "88de9cf83ed7433cb350f6c4e8401dd5": {
      "model_module": "@jupyter-widgets/controls",
      "model_module_version": "1.5.0",
      "model_name": "HBoxModel",
      "state": {
       "children": [
        "IPY_MODEL_c4aec0007f98423d8481e4056639f81f",
        "IPY_MODEL_9d511bcab9c04ea99666f8335ea8d6c8",
        "IPY_MODEL_57fbf0c4b5c642fea2b5d9867401e17f"
       ],
       "layout": "IPY_MODEL_376d92cdc8b04329ba64fad3aa07afaf"
      }
     },
     "9d511bcab9c04ea99666f8335ea8d6c8": {
      "model_module": "@jupyter-widgets/controls",
      "model_module_version": "1.5.0",
      "model_name": "IntTextModel",
      "state": {
       "description": "Maximum",
       "layout": "IPY_MODEL_7c5595d285384caaa0a9c71d946425ec",
       "step": 1,
       "style": "IPY_MODEL_a28240f586cb4891869dcb4aec3164be"
      }
     },
     "a28240f586cb4891869dcb4aec3164be": {
      "model_module": "@jupyter-widgets/controls",
      "model_module_version": "1.5.0",
      "model_name": "DescriptionStyleModel",
      "state": {
       "description_width": ""
      }
     },
     "c4aec0007f98423d8481e4056639f81f": {
      "model_module": "@jupyter-widgets/controls",
      "model_module_version": "1.5.0",
      "model_name": "IntTextModel",
      "state": {
       "description": "Minimum",
       "layout": "IPY_MODEL_7c5595d285384caaa0a9c71d946425ec",
       "step": 1,
       "style": "IPY_MODEL_0c63f691ff2c4538a7da9ca93888ee2e"
      }
     },
     "caefe99ada6d4650a293dc3fa73e87da": {
      "model_module": "@jupyter-widgets/controls",
      "model_module_version": "1.5.0",
      "model_name": "DescriptionStyleModel",
      "state": {
       "description_width": ""
      }
     },
     "daa9385cb9e643d78a4f5d7ad940d3c5": {
      "model_module": "@jupyter-widgets/base",
      "model_module_version": "1.2.0",
      "model_name": "LayoutModel",
      "state": {
       "min_width": "500px"
      }
     },
     "def5aa083aba407cbd023b324bcafea0": {
      "model_module": "@jupyter-widgets/controls",
      "model_module_version": "1.5.0",
      "model_name": "ButtonStyleModel",
      "state": {}
     },
     "eb4d31658b2b4e4a99439462fe40c01f": {
      "model_module": "@jupyter-widgets/controls",
      "model_module_version": "1.5.0",
      "model_name": "HTMLModel",
      "state": {
       "layout": "IPY_MODEL_2064ac9af0f842c59affc6c633cf7d62",
       "style": "IPY_MODEL_7d5bc389bce24c549c8b5c00ed2d246f",
       "value": "<p><b>Dashboard: </b><a href=\"https://jupyterhub.hpc.ucar.edu/stable/user/abanihi/proxy/39026/status\" target=\"_blank\">https://jupyterhub.hpc.ucar.edu/stable/user/abanihi/proxy/39026/status</a></p>\n"
      }
     },
     "ec47293501ac43ed9bd4164b98c9196f": {
      "model_module": "@jupyter-widgets/controls",
      "model_module_version": "1.5.0",
      "model_name": "ButtonModel",
      "state": {
       "description": "Scale",
       "layout": "IPY_MODEL_7c5595d285384caaa0a9c71d946425ec",
       "style": "IPY_MODEL_fd4aa903e90e4b9e9f331903a6ce35ee"
      }
     },
     "f4079b5cce854fc1b0ba49ed5465a298": {
      "model_module": "@jupyter-widgets/controls",
      "model_module_version": "1.5.0",
      "model_name": "DescriptionStyleModel",
      "state": {
       "description_width": ""
      }
     },
     "fc1034c79b5944b195e6e35bf32eb95b": {
      "model_module": "@jupyter-widgets/controls",
      "model_module_version": "1.5.0",
      "model_name": "HTMLModel",
      "state": {
       "layout": "IPY_MODEL_52d49d374a2e41edb2b470731af89d13",
       "style": "IPY_MODEL_35084f63e7b040d3be278b6bff9baee0",
       "value": "\n<div>\n  <style scoped>\n    .dataframe tbody tr th:only-of-type {\n        vertical-align: middle;\n    }\n\n    .dataframe tbody tr th {\n        vertical-align: top;\n    }\n\n    .dataframe thead th {\n        text-align: right;\n    }\n  </style>\n  <table style=\"text-align: right;\">\n    <tr> <th>Workers</th> <td>0</td></tr>\n    <tr> <th>Cores</th> <td>0</td></tr>\n    <tr> <th>Memory</th> <td>0 B</td></tr>\n  </table>\n</div>\n"
      }
     },
     "fd4aa903e90e4b9e9f331903a6ce35ee": {
      "model_module": "@jupyter-widgets/controls",
      "model_module_version": "1.5.0",
      "model_name": "ButtonStyleModel",
      "state": {}
     }
    },
    "version_major": 2,
    "version_minor": 0
   }
  }
 },
 "nbformat": 4,
 "nbformat_minor": 5
}
