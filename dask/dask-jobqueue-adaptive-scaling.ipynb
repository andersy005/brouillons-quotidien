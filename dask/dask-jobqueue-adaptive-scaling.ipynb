{
 "cells": [
  {
   "cell_type": "markdown",
   "id": "lucky-roulette",
   "metadata": {},
   "source": [
    "# Dask Adaptive Scaling"
   ]
  },
  {
   "cell_type": "code",
   "execution_count": 1,
   "id": "laden-resolution",
   "metadata": {},
   "outputs": [
    {
     "data": {
      "text/plain": [
       "<dask.config.set at 0x2add1f61a2e0>"
      ]
     },
     "execution_count": 1,
     "metadata": {},
     "output_type": "execute_result"
    }
   ],
   "source": [
    "from dask_jobqueue import PBSCluster\n",
    "\n",
    "import dask\n",
    "\n",
    "dask.config.set(\n",
    "    {\n",
    "        'distributed.dashboard.link': 'https://jupyterhub.hpc.ucar.edu/stable/user/{USER}/proxy/{port}/status'\n",
    "    }\n",
    ")"
   ]
  },
  {
   "cell_type": "code",
   "execution_count": 2,
   "id": "surrounded-hawaiian",
   "metadata": {},
   "outputs": [
    {
     "name": "stderr",
     "output_type": "stream",
     "text": [
      "/glade/work/abanihi/opt/miniconda/envs/playground/lib/python3.8/site-packages/distributed/node.py:160: UserWarning: Port 8787 is already in use.\n",
      "Perhaps you already have a cluster running?\n",
      "Hosting the HTTP server on port 34929 instead\n",
      "  warnings.warn(\n"
     ]
    },
    {
     "data": {
      "application/vnd.jupyter.widget-view+json": {
       "model_id": "7b06b82b32b24634b519810c2664c35c",
       "version_major": 2,
       "version_minor": 0
      },
      "text/plain": [
       "VBox(children=(HTML(value='<h2>PBSCluster</h2>'), HBox(children=(HTML(value='\\n<div>\\n  <style scoped>\\n    .d…"
      ]
     },
     "metadata": {},
     "output_type": "display_data"
    }
   ],
   "source": [
    "cluster = PBSCluster(\n",
    "    cores=2,\n",
    "    processes=1,\n",
    "    queue=\"casper\",\n",
    "    walltime=\"00:30:00\",\n",
    "    resource_spec=\"select=1:ncpus=1:mem=10GB\",\n",
    ")\n",
    "cluster"
   ]
  },
  {
   "cell_type": "code",
   "execution_count": 3,
   "id": "assigned-crime",
   "metadata": {},
   "outputs": [
    {
     "name": "stdout",
     "output_type": "stream",
     "text": [
      "240546.casper-* abanihi  jhublog* STDIN      217212   1   1    4gb 720:0 R 214:2\n",
      "251037.casper-* abanihi  jhublog* STDIN      238092   1   1    4gb 720:0 R 137:5\n",
      "279371.casper-* abanihi  htc      dask-work* 194610   1   1   10gb 00:30 R 00:00\n",
      "279372.casper-* abanihi  htc      dask-work* 101838   1   1   10gb 00:30 R 00:00\n",
      "279373.casper-* abanihi  htc      dask-work* 134639   1   1   10gb 00:30 R 00:00\n",
      "279374.casper-* abanihi  htc      dask-work* 145193   1   1   10gb 00:30 R 00:00\n",
      "279375.casper-* abanihi  htc      dask-work* 145273   1   1   10gb 00:30 R 00:00\n"
     ]
    }
   ],
   "source": [
    "!qstat -u abanihi -l"
   ]
  },
  {
   "cell_type": "markdown",
   "id": "speaking-pontiac",
   "metadata": {},
   "source": [
    "## Batch Job Script"
   ]
  },
  {
   "cell_type": "code",
   "execution_count": 4,
   "id": "demanding-reserve",
   "metadata": {},
   "outputs": [
    {
     "name": "stdout",
     "output_type": "stream",
     "text": [
      "#!/usr/bin/env bash\n",
      "\n",
      "#PBS -N dask-worker\n",
      "#PBS -q casper\n",
      "#PBS -A NIOW0001\n",
      "#PBS -l select=1:ncpus=1:mem=10GB\n",
      "#PBS -l walltime=00:30:00\n",
      "#PBS -e /glade/scratch/abanihi/\n",
      "#PBS -o /glade/scratch/abanihi/\n",
      "\n",
      "/glade/work/abanihi/opt/miniconda/envs/playground/bin/python -m distributed.cli.dask_worker tcp://10.12.206.47:40433 --nthreads 2 --memory-limit 101.51GiB --name dummy-name --nanny --death-timeout 60 --local-directory /glade/scratch/abanihi --interface ib0 --protocol tcp://\n",
      "\n"
     ]
    }
   ],
   "source": [
    "print(cluster.job_script())"
   ]
  },
  {
   "cell_type": "markdown",
   "id": "enhanced-youth",
   "metadata": {},
   "source": [
    "## Cluster Scaling APIs"
   ]
  },
  {
   "cell_type": "code",
   "execution_count": 5,
   "id": "danish-league",
   "metadata": {},
   "outputs": [],
   "source": [
    "cluster.scale(5)"
   ]
  },
  {
   "cell_type": "code",
   "execution_count": null,
   "id": "brazilian-ordinance",
   "metadata": {},
   "outputs": [],
   "source": [
    "cluster.scale(jobs=1)"
   ]
  },
  {
   "cell_type": "code",
   "execution_count": 6,
   "id": "separate-reunion",
   "metadata": {},
   "outputs": [
    {
     "data": {
      "text/plain": [
       "<distributed.deploy.adaptive.Adaptive at 0x2add42e0acd0>"
      ]
     },
     "execution_count": 6,
     "metadata": {},
     "output_type": "execute_result"
    }
   ],
   "source": [
    "cluster.adapt(minimum_jobs=1, maximum_jobs=20)"
   ]
  },
  {
   "cell_type": "markdown",
   "id": "useful-opposition",
   "metadata": {},
   "source": [
    "## Connect cluster to the client"
   ]
  },
  {
   "cell_type": "code",
   "execution_count": 7,
   "id": "coated-chinese",
   "metadata": {},
   "outputs": [],
   "source": [
    "from distributed import Client\n",
    "\n",
    "client = Client(cluster)"
   ]
  },
  {
   "cell_type": "markdown",
   "id": "minus-insight",
   "metadata": {},
   "source": [
    "## Run some computation"
   ]
  },
  {
   "cell_type": "code",
   "execution_count": 8,
   "id": "behind-light",
   "metadata": {},
   "outputs": [
    {
     "data": {
      "text/html": [
       "<table>\n",
       "<tr>\n",
       "<td>\n",
       "<table>\n",
       "  <thead>\n",
       "    <tr><td> </td><th> Array </th><th> Chunk </th></tr>\n",
       "  </thead>\n",
       "  <tbody>\n",
       "    <tr><th> Bytes </th><td> 74.51 GiB </td> <td> 152.59 MiB </td></tr>\n",
       "    <tr><th> Shape </th><td> (200, 10000, 5000) </td> <td> (20, 1000, 1000) </td></tr>\n",
       "    <tr><th> Count </th><td> 500 Tasks </td><td> 500 Chunks </td></tr>\n",
       "    <tr><th> Type </th><td> float64 </td><td> numpy.ndarray </td></tr>\n",
       "  </tbody>\n",
       "</table>\n",
       "</td>\n",
       "<td>\n",
       "<svg width=\"137\" height=\"187\" style=\"stroke:rgb(0,0,0);stroke-width:1\" >\n",
       "\n",
       "  <!-- Horizontal lines -->\n",
       "  <line x1=\"10\" y1=\"0\" x2=\"27\" y2=\"17\" style=\"stroke-width:2\" />\n",
       "  <line x1=\"10\" y1=\"12\" x2=\"27\" y2=\"29\" />\n",
       "  <line x1=\"10\" y1=\"24\" x2=\"27\" y2=\"41\" />\n",
       "  <line x1=\"10\" y1=\"36\" x2=\"27\" y2=\"53\" />\n",
       "  <line x1=\"10\" y1=\"48\" x2=\"27\" y2=\"65\" />\n",
       "  <line x1=\"10\" y1=\"60\" x2=\"27\" y2=\"77\" />\n",
       "  <line x1=\"10\" y1=\"72\" x2=\"27\" y2=\"89\" />\n",
       "  <line x1=\"10\" y1=\"84\" x2=\"27\" y2=\"101\" />\n",
       "  <line x1=\"10\" y1=\"96\" x2=\"27\" y2=\"113\" />\n",
       "  <line x1=\"10\" y1=\"108\" x2=\"27\" y2=\"125\" />\n",
       "  <line x1=\"10\" y1=\"120\" x2=\"27\" y2=\"137\" style=\"stroke-width:2\" />\n",
       "\n",
       "  <!-- Vertical lines -->\n",
       "  <line x1=\"10\" y1=\"0\" x2=\"10\" y2=\"120\" style=\"stroke-width:2\" />\n",
       "  <line x1=\"11\" y1=\"1\" x2=\"11\" y2=\"121\" />\n",
       "  <line x1=\"13\" y1=\"3\" x2=\"13\" y2=\"123\" />\n",
       "  <line x1=\"15\" y1=\"5\" x2=\"15\" y2=\"125\" />\n",
       "  <line x1=\"16\" y1=\"6\" x2=\"16\" y2=\"126\" />\n",
       "  <line x1=\"18\" y1=\"8\" x2=\"18\" y2=\"128\" />\n",
       "  <line x1=\"20\" y1=\"10\" x2=\"20\" y2=\"130\" />\n",
       "  <line x1=\"21\" y1=\"11\" x2=\"21\" y2=\"131\" />\n",
       "  <line x1=\"23\" y1=\"13\" x2=\"23\" y2=\"133\" />\n",
       "  <line x1=\"25\" y1=\"15\" x2=\"25\" y2=\"135\" />\n",
       "  <line x1=\"27\" y1=\"17\" x2=\"27\" y2=\"137\" style=\"stroke-width:2\" />\n",
       "\n",
       "  <!-- Colored Rectangle -->\n",
       "  <polygon points=\"10.0,0.0 27.076840594396398,17.076840594396398 27.076840594396398,137.0768405943964 10.0,120.0\" style=\"fill:#ECB172A0;stroke-width:0\"/>\n",
       "\n",
       "  <!-- Horizontal lines -->\n",
       "  <line x1=\"10\" y1=\"0\" x2=\"70\" y2=\"0\" style=\"stroke-width:2\" />\n",
       "  <line x1=\"11\" y1=\"1\" x2=\"71\" y2=\"1\" />\n",
       "  <line x1=\"13\" y1=\"3\" x2=\"73\" y2=\"3\" />\n",
       "  <line x1=\"15\" y1=\"5\" x2=\"75\" y2=\"5\" />\n",
       "  <line x1=\"16\" y1=\"6\" x2=\"76\" y2=\"6\" />\n",
       "  <line x1=\"18\" y1=\"8\" x2=\"78\" y2=\"8\" />\n",
       "  <line x1=\"20\" y1=\"10\" x2=\"80\" y2=\"10\" />\n",
       "  <line x1=\"21\" y1=\"11\" x2=\"81\" y2=\"11\" />\n",
       "  <line x1=\"23\" y1=\"13\" x2=\"83\" y2=\"13\" />\n",
       "  <line x1=\"25\" y1=\"15\" x2=\"85\" y2=\"15\" />\n",
       "  <line x1=\"27\" y1=\"17\" x2=\"87\" y2=\"17\" style=\"stroke-width:2\" />\n",
       "\n",
       "  <!-- Vertical lines -->\n",
       "  <line x1=\"10\" y1=\"0\" x2=\"27\" y2=\"17\" style=\"stroke-width:2\" />\n",
       "  <line x1=\"22\" y1=\"0\" x2=\"39\" y2=\"17\" />\n",
       "  <line x1=\"34\" y1=\"0\" x2=\"51\" y2=\"17\" />\n",
       "  <line x1=\"46\" y1=\"0\" x2=\"63\" y2=\"17\" />\n",
       "  <line x1=\"58\" y1=\"0\" x2=\"75\" y2=\"17\" />\n",
       "  <line x1=\"70\" y1=\"0\" x2=\"87\" y2=\"17\" style=\"stroke-width:2\" />\n",
       "\n",
       "  <!-- Colored Rectangle -->\n",
       "  <polygon points=\"10.0,0.0 70.0,0.0 87.0768405943964,17.076840594396398 27.076840594396398,17.076840594396398\" style=\"fill:#ECB172A0;stroke-width:0\"/>\n",
       "\n",
       "  <!-- Horizontal lines -->\n",
       "  <line x1=\"27\" y1=\"17\" x2=\"87\" y2=\"17\" style=\"stroke-width:2\" />\n",
       "  <line x1=\"27\" y1=\"29\" x2=\"87\" y2=\"29\" />\n",
       "  <line x1=\"27\" y1=\"41\" x2=\"87\" y2=\"41\" />\n",
       "  <line x1=\"27\" y1=\"53\" x2=\"87\" y2=\"53\" />\n",
       "  <line x1=\"27\" y1=\"65\" x2=\"87\" y2=\"65\" />\n",
       "  <line x1=\"27\" y1=\"77\" x2=\"87\" y2=\"77\" />\n",
       "  <line x1=\"27\" y1=\"89\" x2=\"87\" y2=\"89\" />\n",
       "  <line x1=\"27\" y1=\"101\" x2=\"87\" y2=\"101\" />\n",
       "  <line x1=\"27\" y1=\"113\" x2=\"87\" y2=\"113\" />\n",
       "  <line x1=\"27\" y1=\"125\" x2=\"87\" y2=\"125\" />\n",
       "  <line x1=\"27\" y1=\"137\" x2=\"87\" y2=\"137\" style=\"stroke-width:2\" />\n",
       "\n",
       "  <!-- Vertical lines -->\n",
       "  <line x1=\"27\" y1=\"17\" x2=\"27\" y2=\"137\" style=\"stroke-width:2\" />\n",
       "  <line x1=\"39\" y1=\"17\" x2=\"39\" y2=\"137\" />\n",
       "  <line x1=\"51\" y1=\"17\" x2=\"51\" y2=\"137\" />\n",
       "  <line x1=\"63\" y1=\"17\" x2=\"63\" y2=\"137\" />\n",
       "  <line x1=\"75\" y1=\"17\" x2=\"75\" y2=\"137\" />\n",
       "  <line x1=\"87\" y1=\"17\" x2=\"87\" y2=\"137\" style=\"stroke-width:2\" />\n",
       "\n",
       "  <!-- Colored Rectangle -->\n",
       "  <polygon points=\"27.076840594396398,17.076840594396398 87.0768405943964,17.076840594396398 87.0768405943964,137.0768405943964 27.076840594396398,137.0768405943964\" style=\"fill:#ECB172A0;stroke-width:0\"/>\n",
       "\n",
       "  <!-- Text -->\n",
       "  <text x=\"57.076841\" y=\"157.076841\" font-size=\"1.0rem\" font-weight=\"100\" text-anchor=\"middle\" >5000</text>\n",
       "  <text x=\"107.076841\" y=\"77.076841\" font-size=\"1.0rem\" font-weight=\"100\" text-anchor=\"middle\" transform=\"rotate(-90,107.076841,77.076841)\">10000</text>\n",
       "  <text x=\"8.538420\" y=\"148.538420\" font-size=\"1.0rem\" font-weight=\"100\" text-anchor=\"middle\" transform=\"rotate(45,8.538420,148.538420)\">200</text>\n",
       "</svg>\n",
       "</td>\n",
       "</tr>\n",
       "</table>"
      ],
      "text/plain": [
       "dask.array<random_sample, shape=(200, 10000, 5000), dtype=float64, chunksize=(20, 1000, 1000), chunktype=numpy.ndarray>"
      ]
     },
     "execution_count": 8,
     "metadata": {},
     "output_type": "execute_result"
    }
   ],
   "source": [
    "import dask.array as da\n",
    "\n",
    "x = da.random.random((200, 10_000, 5_000), chunks=(20, 1_000, 1_000))\n",
    "x"
   ]
  },
  {
   "cell_type": "code",
   "execution_count": 9,
   "id": "focused-treasury",
   "metadata": {},
   "outputs": [
    {
     "data": {
      "text/html": [
       "<table>\n",
       "<tr>\n",
       "<td>\n",
       "<table>\n",
       "  <thead>\n",
       "    <tr><td> </td><th> Array </th><th> Chunk </th></tr>\n",
       "  </thead>\n",
       "  <tbody>\n",
       "    <tr><th> Bytes </th><td> 381.47 MiB </td> <td> 7.63 MiB </td></tr>\n",
       "    <tr><th> Shape </th><td> (10000, 5000) </td> <td> (1000, 1000) </td></tr>\n",
       "    <tr><th> Count </th><td> 50 Tasks </td><td> 50 Chunks </td></tr>\n",
       "    <tr><th> Type </th><td> float64 </td><td> numpy.ndarray </td></tr>\n",
       "  </tbody>\n",
       "</table>\n",
       "</td>\n",
       "<td>\n",
       "<svg width=\"110\" height=\"170\" style=\"stroke:rgb(0,0,0);stroke-width:1\" >\n",
       "\n",
       "  <!-- Horizontal lines -->\n",
       "  <line x1=\"0\" y1=\"0\" x2=\"60\" y2=\"0\" style=\"stroke-width:2\" />\n",
       "  <line x1=\"0\" y1=\"12\" x2=\"60\" y2=\"12\" />\n",
       "  <line x1=\"0\" y1=\"24\" x2=\"60\" y2=\"24\" />\n",
       "  <line x1=\"0\" y1=\"36\" x2=\"60\" y2=\"36\" />\n",
       "  <line x1=\"0\" y1=\"48\" x2=\"60\" y2=\"48\" />\n",
       "  <line x1=\"0\" y1=\"60\" x2=\"60\" y2=\"60\" />\n",
       "  <line x1=\"0\" y1=\"72\" x2=\"60\" y2=\"72\" />\n",
       "  <line x1=\"0\" y1=\"84\" x2=\"60\" y2=\"84\" />\n",
       "  <line x1=\"0\" y1=\"96\" x2=\"60\" y2=\"96\" />\n",
       "  <line x1=\"0\" y1=\"108\" x2=\"60\" y2=\"108\" />\n",
       "  <line x1=\"0\" y1=\"120\" x2=\"60\" y2=\"120\" style=\"stroke-width:2\" />\n",
       "\n",
       "  <!-- Vertical lines -->\n",
       "  <line x1=\"0\" y1=\"0\" x2=\"0\" y2=\"120\" style=\"stroke-width:2\" />\n",
       "  <line x1=\"12\" y1=\"0\" x2=\"12\" y2=\"120\" />\n",
       "  <line x1=\"24\" y1=\"0\" x2=\"24\" y2=\"120\" />\n",
       "  <line x1=\"36\" y1=\"0\" x2=\"36\" y2=\"120\" />\n",
       "  <line x1=\"48\" y1=\"0\" x2=\"48\" y2=\"120\" />\n",
       "  <line x1=\"60\" y1=\"0\" x2=\"60\" y2=\"120\" style=\"stroke-width:2\" />\n",
       "\n",
       "  <!-- Colored Rectangle -->\n",
       "  <polygon points=\"0.0,0.0 60.0,0.0 60.0,120.0 0.0,120.0\" style=\"fill:#ECB172A0;stroke-width:0\"/>\n",
       "\n",
       "  <!-- Text -->\n",
       "  <text x=\"30.000000\" y=\"140.000000\" font-size=\"1.0rem\" font-weight=\"100\" text-anchor=\"middle\" >5000</text>\n",
       "  <text x=\"80.000000\" y=\"60.000000\" font-size=\"1.0rem\" font-weight=\"100\" text-anchor=\"middle\" transform=\"rotate(-90,80.000000,60.000000)\">10000</text>\n",
       "</svg>\n",
       "</td>\n",
       "</tr>\n",
       "</table>"
      ],
      "text/plain": [
       "dask.array<_sqrt, shape=(10000, 5000), dtype=float64, chunksize=(1000, 1000), chunktype=numpy.ndarray>"
      ]
     },
     "execution_count": 9,
     "metadata": {},
     "output_type": "execute_result"
    }
   ],
   "source": [
    "y = x.std(axis=0)\n",
    "y = y.persist()\n",
    "y"
   ]
  },
  {
   "cell_type": "code",
   "execution_count": null,
   "id": "following-cloud",
   "metadata": {},
   "outputs": [],
   "source": []
  }
 ],
 "metadata": {
  "kernelspec": {
   "display_name": "Python [conda env:miniconda-playground]",
   "language": "python",
   "name": "conda-env-miniconda-playground-py"
  },
  "language_info": {
   "codemirror_mode": {
    "name": "ipython",
    "version": 3
   },
   "file_extension": ".py",
   "mimetype": "text/x-python",
   "name": "python",
   "nbconvert_exporter": "python",
   "pygments_lexer": "ipython3",
   "version": "3.8.8"
  },
  "widgets": {
   "application/vnd.jupyter.widget-state+json": {
    "state": {},
    "version_major": 2,
    "version_minor": 0
   }
  }
 },
 "nbformat": 4,
 "nbformat_minor": 5
}
