{
 "cells": [
  {
   "cell_type": "markdown",
   "metadata": {},
   "source": []
  },
  {
   "cell_type": "markdown",
   "metadata": {},
   "source": [
    "\n",
    "![](https://binderhub.readthedocs.io/en/latest/_images/architecture.png)\n",
    "\n",
    "\n",
    "## BinderHub\n",
    "\n",
    "- Deploys the Binder service in the cloud.\n",
    "- A thin layer that sits on top of **repo2docker** and **JupyterHub**, orchestrating their interactions and resolving URLs\n",
    "\n",
    "\n",
    "\n",
    "### repo2docker\n",
    "\n",
    "- Automatically builds a Docker image from a code repo given a configuration file\n",
    "- The built docker image contains all of the code + data + resources listed in the repo"
   ]
  },
  {
   "cell_type": "markdown",
   "metadata": {},
   "source": [
    "### What happens when a Binder link is clicked?\n",
    "\n",
    "1. The link to the repository is resolved by BinderHub.\n",
    "\n",
    "2. BinderHub searches for a Docker image relating to the provided reference (for example, git commit hash, branch or tag).\n",
    "\n",
    "3. If a Docker image is not found, BinderHub requests resources from the Kubernetes cluster to run repo2docker to do the following:\n",
    "\n",
    " - Fetch the repository,\n",
    "\n",
    " - Build a Docker image containing the software requested in the configuration file,\n",
    "\n",
    " - Push that image to the Docker registry.\n",
    "\n",
    " - BinderHub sends the Docker image to JupyterHub.\n",
    "\n",
    "4. JupyterHub requests resources from the Kubernetes cluster to serve the Docker image.\n",
    "\n",
    "5. JupyterHub connects the user’s browser to the running Docker environment.\n",
    "\n",
    "6. JupyterHub monitors the container for activity and destroys it after a period of inactivity.\n",
    "\n"
   ]
  },
  {
   "cell_type": "markdown",
   "metadata": {},
   "source": []
  },
  {
   "cell_type": "markdown",
   "metadata": {},
   "source": [
    "## repo2singularity \n",
    "\n",
    "- A wrapper around repo2docker producing Jupyter enabled **Singularity** images.\n",
    "- Relies on `repo2docker`, `docker`, and `singularity`\n",
    "\n",
    "\n",
    "### There are 2 ways to build a singularity container via `repo2singularity`\n",
    "\n",
    "1. Build a singularity container on a **Linux** system on which you have admin privilege\n",
    " - Requires having admin privilege\n",
    " - Requires having singularity, and docker installed\n",
    "\n",
    "\n",
    "2. Build a singularity container on a remote builder\n",
    " - Doesn't require admin privilege\n",
    " - The remote builder must have singularity and docker installed"
   ]
  },
  {
   "cell_type": "markdown",
   "metadata": {},
   "source": [
    "### Container Formats used by `repo2singularity`\n",
    "\n",
    "- **squashfs**: \n",
    "    - The default container format\n",
    "    - A compressed read-only file system\n",
    "    \n",
    "- **directory**:\n",
    "  - Also known as `sandbox`\n",
    "  - Standard Unix directory containing a root container image\n",
    "  - Writable sandbox "
   ]
  },
  {
   "cell_type": "markdown",
   "metadata": {},
   "source": [
    "## How does repo2singularity work"
   ]
  },
  {
   "cell_type": "markdown",
   "metadata": {},
   "source": [
    "\n",
    "```bash\n",
    "# Build singularity image using the remote builder, retrieve it and cache it locally\n",
    "repo2singularity --remote --endpoint-url http://ec2-18-236-169-165.us-west-2.compute.amazonaws.com:8000/api https://github.com/andersy005/singularity-binder\n",
    "```\n",
    "\n",
    "```bash\n",
    "# Run the built image on our HPC system\n",
    "repo2singularity --run https://github.com/andersy005/singularity-binder\n",
    "```"
   ]
  },
  {
   "cell_type": "markdown",
   "metadata": {},
   "source": [
    "\n",
    "[*Client side*] \n",
    "\n",
    "1. The link  to the repository is resolved by repo2singularity\n",
    "  - If `--ref` (git commit hash, branch or tag) is specified, used it in conjuction with the repo url to construct an image name\n",
    "  \n",
    "\n",
    "2. Repo2singularity posts the following to the remote builder's HTTP endpoint\n",
    "\n",
    "```json\n",
    "{\n",
    "  \"url\": \"string\",\n",
    "  \"ref\": \"string\",\n",
    "  \"image_name\": \"string\"\n",
    "}\n",
    "```\n",
    "\n",
    "[*Server side: remote builder*]\n",
    "\n",
    "3. Repo2singularity \n",
    "\n",
    "  - Fetchs the repository\n",
    "  - Builds a Docker image (via `repo2docker`) containing the software requested in the configuration file\n",
    "  - Builds a Singularity image (in **squashfs** format) using the built Docker image\n",
    "  - Sends the built singularity image back to the client side\n",
    "  \n",
    " \n",
    "[*Client side*]\n",
    "\n",
    "4. Repo2singularity takes the returned singularity image file and converts it into a writable directory (**sandbox** format)\n",
    "\n",
    "5. Lauches the singularity image\n",
    "\n"
   ]
  },
  {
   "cell_type": "code",
   "execution_count": 1,
   "metadata": {},
   "outputs": [
    {
     "name": "stdout",
     "output_type": "stream",
     "text": [
      "/glade/work/abanihi/softwares/miniconda3/bin/python\n"
     ]
    }
   ],
   "source": [
    "which python"
   ]
  },
  {
   "cell_type": "code",
   "execution_count": 2,
   "metadata": {},
   "outputs": [
    {
     "name": "stdout",
     "output_type": "stream",
     "text": [
      "LSB Version:\tn/a\n",
      "Distributor ID:\tSUSE\n",
      "Description:\tSUSE Linux Enterprise Server 12 SP4\n",
      "Release:\t12.4\n",
      "Codename:\tn/a\n"
     ]
    }
   ],
   "source": [
    "lsb_release --all"
   ]
  },
  {
   "cell_type": "code",
   "execution_count": 3,
   "metadata": {},
   "outputs": [
    {
     "name": "stdout",
     "output_type": "stream",
     "text": [
      "abanihi\n"
     ]
    }
   ],
   "source": [
    "whoami"
   ]
  },
  {
   "cell_type": "code",
   "execution_count": 4,
   "metadata": {},
   "outputs": [
    {
     "name": "stdout",
     "output_type": "stream",
     "text": [
      "12:net_cls,net_prio:/init.scope\n",
      "11:devices:/init.scope\n",
      "10:perf_event:/\n",
      "9:cpu,cpuacct:/init.scope\n",
      "8:cpuset:/\n",
      "7:blkio:/init.scope\n",
      "6:memory:/init.scope\n",
      "5:hugetlb:/\n",
      "4:rdma:/\n",
      "3:pids:/init.scope\n",
      "2:freezer:/\n",
      "1:name=systemd:/init.scope\n"
     ]
    }
   ],
   "source": [
    "cat /proc/1/cgroup"
   ]
  },
  {
   "cell_type": "code",
   "execution_count": null,
   "metadata": {},
   "outputs": [],
   "source": []
  }
 ],
 "metadata": {
  "kernelspec": {
   "display_name": "Bash",
   "language": "bash",
   "name": "bash"
  },
  "language_info": {
   "codemirror_mode": "shell",
   "file_extension": ".sh",
   "mimetype": "text/x-sh",
   "name": "bash"
  },
  "widgets": {
   "application/vnd.jupyter.widget-state+json": {
    "state": {},
    "version_major": 2,
    "version_minor": 0
   }
  }
 },
 "nbformat": 4,
 "nbformat_minor": 4
}
