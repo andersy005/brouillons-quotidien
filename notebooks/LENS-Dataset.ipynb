{
 "cells": [
  {
   "cell_type": "code",
   "execution_count": 1,
   "metadata": {},
   "outputs": [],
   "source": [
    "from dask_jobqueue import PBSCluster"
   ]
  },
  {
   "cell_type": "code",
   "execution_count": 2,
   "metadata": {},
   "outputs": [],
   "source": [
    "cluster = PBSCluster(cores=10, memory='100GB', walltime='02:00:00', queue='economy', project='NIOW0001')"
   ]
  },
  {
   "cell_type": "code",
   "execution_count": 3,
   "metadata": {},
   "outputs": [
    {
     "name": "stdout",
     "output_type": "stream",
     "text": [
      "\n",
      "chadmin1: \n",
      "                                                            Req'd  Req'd   Elap\n",
      "Job ID          Username Queue    Jobname    SessID NDS TSK Memory Time  S Time\n",
      "--------------- -------- -------- ---------- ------ --- --- ------ ----- - -----\n",
      "2939754.chadmin abanihi  economy  STDIN       50301   1   2    --  03:00 R 00:01\n"
     ]
    }
   ],
   "source": [
    "!qstat -u $USER"
   ]
  },
  {
   "cell_type": "code",
   "execution_count": 4,
   "metadata": {},
   "outputs": [],
   "source": [
    "cluster.scale(5)"
   ]
  },
  {
   "cell_type": "code",
   "execution_count": 5,
   "metadata": {},
   "outputs": [
    {
     "name": "stdout",
     "output_type": "stream",
     "text": [
      "\n",
      "chadmin1: \n",
      "                                                            Req'd  Req'd   Elap\n",
      "Job ID          Username Queue    Jobname    SessID NDS TSK Memory Time  S Time\n",
      "--------------- -------- -------- ---------- ------ --- --- ------ ----- - -----\n",
      "2939754.chadmin abanihi  economy  STDIN       50301   1   2    --  03:00 R 00:01\n",
      "2939778.chadmin abanihi  economy  dask-worke    --    1   1    --  02:00 Q   -- \n",
      "2939779.chadmin abanihi  economy  dask-worke    --    1   1    --  02:00 Q   -- \n",
      "2939780.chadmin abanihi  economy  dask-worke    --    1   1    --  02:00 Q   -- \n",
      "2939781.chadmin abanihi  economy  dask-worke    --    1   1    --  02:00 Q   -- \n",
      "2939782.chadmin abanihi  economy  dask-worke    --    1   1    --  02:00 Q   -- \n"
     ]
    }
   ],
   "source": [
    "!qstat -u $USER"
   ]
  },
  {
   "cell_type": "code",
   "execution_count": 8,
   "metadata": {},
   "outputs": [
    {
     "name": "stdout",
     "output_type": "stream",
     "text": [
      "\n",
      "chadmin1: \n",
      "                                                            Req'd  Req'd   Elap\n",
      "Job ID          Username Queue    Jobname    SessID NDS TSK Memory Time  S Time\n",
      "--------------- -------- -------- ---------- ------ --- --- ------ ----- - -----\n",
      "2939754.chadmin abanihi  economy  STDIN       50301   1   2    --  03:00 R 00:02\n",
      "2939778.chadmin abanihi  economy  dask-worke  62849   1   1    --  02:00 R 00:00\n",
      "2939779.chadmin abanihi  economy  dask-worke  66017   1   1    --  02:00 R 00:00\n",
      "2939780.chadmin abanihi  economy  dask-worke  62511   1   1    --  02:00 R 00:00\n",
      "2939781.chadmin abanihi  economy  dask-worke  56135   1   1    --  02:00 R 00:00\n",
      "2939782.chadmin abanihi  economy  dask-worke  62988   1   1    --  02:00 R 00:00\n"
     ]
    }
   ],
   "source": [
    "!qstat -u $USER"
   ]
  },
  {
   "cell_type": "code",
   "execution_count": 9,
   "metadata": {},
   "outputs": [],
   "source": [
    "from dask.distributed import Client"
   ]
  },
  {
   "cell_type": "code",
   "execution_count": 10,
   "metadata": {},
   "outputs": [
    {
     "data": {
      "text/html": [
       "<table style=\"border: 2px solid white;\">\n",
       "<tr>\n",
       "<td style=\"vertical-align: top; border: 0px solid white\">\n",
       "<h3>Client</h3>\n",
       "<ul>\n",
       "  <li><b>Scheduler: </b>tcp://10.148.1.14:45447\n",
       "  <li><b>Dashboard: </b><a href='http://10.148.1.14:8787/status' target='_blank'>http://10.148.1.14:8787/status</a>\n",
       "</ul>\n",
       "</td>\n",
       "<td style=\"vertical-align: top; border: 0px solid white\">\n",
       "<h3>Cluster</h3>\n",
       "<ul>\n",
       "  <li><b>Workers: </b>5</li>\n",
       "  <li><b>Cores: </b>50</li>\n",
       "  <li><b>Memory: </b>500.00 GB</li>\n",
       "</ul>\n",
       "</td>\n",
       "</tr>\n",
       "</table>"
      ],
      "text/plain": [
       "<Client: scheduler='tcp://10.148.1.14:45447' processes=5 cores=50>"
      ]
     },
     "execution_count": 10,
     "metadata": {},
     "output_type": "execute_result"
    }
   ],
   "source": [
    "client = Client(cluster)\n",
    "client"
   ]
  },
  {
   "cell_type": "code",
   "execution_count": 23,
   "metadata": {},
   "outputs": [],
   "source": [
    "from pathlib import Path\n",
    "import os "
   ]
  },
  {
   "cell_type": "code",
   "execution_count": 12,
   "metadata": {},
   "outputs": [],
   "source": [
    "lens_dataset = Path(\"/glade/p_old/cesmLE/CESM-CAM5-BGC-LE/\")"
   ]
  },
  {
   "cell_type": "code",
   "execution_count": 13,
   "metadata": {},
   "outputs": [
    {
     "name": "stdout",
     "output_type": "stream",
     "text": [
      "atm  CVDP  ice\tlnd  ocn  rof\n"
     ]
    }
   ],
   "source": [
    "!ls {lens_dataset}"
   ]
  },
  {
   "cell_type": "code",
   "execution_count": 14,
   "metadata": {},
   "outputs": [
    {
     "name": "stdout",
     "output_type": "stream",
     "text": [
      "ADVS\t\t  HDIFB_TEMP\t\tSCHMIDT_CO2\n",
      "ADVS_ISOP\t  HDIFE_CFC11\t\tSCHMIDT_O2\n",
      "ADVS_SUBM\t  HDIFE_CFC12\t\tSENH_F\n",
      "ADVT\t\t  HDIFE_IAGE\t\tSFWF\n",
      "ADVT_ISOP\t  HDIFE_SALT\t\tSFWF_WRST\n",
      "ADVT_SUBM\t  HDIFE_TEMP\t\tSHF\n",
      "ALK\t\t  HDIFN_CFC11\t\tSHF_QSW\n",
      "AOU\t\t  HDIFN_CFC12\t\tSiO2_FLUX_IN\n",
      "ATM_ALT_CO2\t  HDIFN_IAGE\t\tSiO2_PROD\n",
      "ATM_CO2\t\t  HDIFN_SALT\t\tSiO3\n",
      "BSF\t\t  HDIFN_TEMP\t\tSNOW_F\n",
      "bSi_form\t  HDIFS\t\t\tsp_agg\n",
      "CaCO3_FLUX_IN\t  HDIFT\t\t\tspC\n",
      "CaCO3_form\t  HLS_SUBM\t\tspCaCO3\n",
      "CaCO3_PROD\t  HMXL\t\t\tspChl\n",
      "CFC11\t\t  HOR_DIFF\t\tspFe\n",
      "CFC12\t\t  IAGE\t\t\tsp_Fe_lim\n",
      "CFC_ATM_PRESS\t  IAGE_RESET_TEND\tsp_light_lim\n",
      "CFC_IFRAC\t  IFRAC\t\t\tsp_loss\n",
      "CFC_XKW\t\t  INT_DEPTH\t\tsp_N_lim\n",
      "CO2STAR\t\t  IOFF_F\t\tsp_PO4_lim\n",
      "CO3\t\t  IRON_FLUX\t\tSSH\n",
      "co3_sat_arag\t  J_DIC\t\t\tSSH2\n",
      "co3_sat_calc\t  Jint_100m_ALK\t\tSST\n",
      "DCO2STAR\t  Jint_100m_DIC\t\tSTF_CFC11\n",
      "DCO2STAR_ALT_CO2  Jint_100m_DOC\t\tSTF_CFC12\n",
      "DENITRIF\t  Jint_100m_Fe\t\tSTF_O2\n",
      "DIA_DEPTH\t  Jint_100m_NH4\t\tSU\n",
      "DIA_IMPVF_CFC11   Jint_100m_NO3\t\tSV\n",
      "DIA_IMPVF_CFC12   Jint_100m_O2\t\tTAUX\n",
      "DIA_IMPVF_IAGE\t  Jint_100m_PO4\t\tTAUX2\n",
      "DIA_IMPVF_SALT\t  Jint_100m_SiO3\tTAUY\n",
      "DIA_IMPVF_TEMP\t  KAPPA_ISOP\t\tTAUY2\n",
      "diat_agg\t  KAPPA_THIC\t\tTBLT\n",
      "diatC\t\t  KPP_SRC_CFC11\t\tTEMP\n",
      "diatChl\t\t  KPP_SRC_CFC12\t\ttend_zint_100m_ALK\n",
      "diatFe\t\t  KPP_SRC_SALT\t\ttend_zint_100m_DIC\n",
      "diat_Fe_lim\t  KPP_SRC_TEMP\t\ttend_zint_100m_DIC_ALT_CO2\n",
      "diat_light_lim\t  KVMIX\t\t\ttend_zint_100m_DOC\n",
      "diat_loss\t  KVMIX_M\t\ttend_zint_100m_Fe\n",
      "diat_N_lim\t  LWDN_F\t\ttend_zint_100m_NH4\n",
      "diat_PO4_lim\t  LWUP_F\t\ttend_zint_100m_NO3\n",
      "diatSi\t\t  MELT_F\t\ttend_zint_100m_O2\n",
      "diat_SiO3_lim\t  MELTH_F\t\ttend_zint_100m_PO4\n",
      "diazC\t\t  MOC\t\t\ttend_zint_100m_SiO3\n",
      "diazChl\t\t  NH4\t\t\tTFW_S\n",
      "diazFe\t\t  N_HEAT\t\tTFW_T\n",
      "diaz_Fe_lim\t  NHy_FLUX\t\tTLT\n",
      "diaz_light_lim\t  NITRIF\t\tTMXL\n",
      "diaz_loss\t  NO3\t\t\tTPOWER\n",
      "diaz_Nfix\t  NOx_FLUX\t\tUE_CFC11\n",
      "diaz_P_lim\t  N_SALT\t\tUE_CFC12\n",
      "DIC\t\t  O2\t\t\tUE_IAGE\n",
      "DIC_ALT_CO2\t  O2_CONSUMPTION\tUES\n",
      "DOC\t\t  O2_PRODUCTION\t\tUET\n",
      "DOC_prod\t  O2SAT\t\t\tUISOP\n",
      "DOC_remin\t  O2_ZMIN\t\tUSUBM\n",
      "DOFe\t\t  O2_ZMIN_DEPTH\t\tUVEL\n",
      "DOFe_prod\t  PAR_avg\t\tUVEL2\n",
      "DON\t\t  pCO2SURF\t\tVDC_S\n",
      "DON_prod\t  PD\t\t\tVDC_T\n",
      "DOP\t\t  PH\t\t\tVISOP\n",
      "DOP_prod\t  pH_3D\t\t\tVN_CFC11\n",
      "DpCO2\t\t  PH_ALT_CO2\t\tVN_CFC12\n",
      "DpCO2_ALT_CO2\t  photoC_diat\t\tVN_IAGE\n",
      "dTEMP_NEG_2D\t  photoC_diaz\t\tVNS\n",
      "dTEMP_POS_2D\t  photoC_NO3_diat\tVNS_ISOP\n",
      "ECOSYS_ATM_PRESS  photoC_NO3_diat_zint\tVNS_SUBM\n",
      "ECOSYS_IFRAC\t  photoC_NO3_diaz\tVNT\n",
      "ECOSYS_XKW\t  photoC_NO3_diaz_zint\tVNT_ISOP\n",
      "EVAP_F\t\t  photoC_NO3_sp\t\tVNT_SUBM\n",
      "Fe\t\t  photoC_NO3_sp_zint\tVSUBM\n",
      "Fe_scavenge\t  photoC_sp\t\tVVC\n",
      "Fe_scavenge_rate  P_iron_FLUX_IN\tVVEL\n",
      "FG_ALT_CO2\t  P_iron_PROD\t\tVVEL2\n",
      "FG_CO2\t\t  PO4\t\t\tWISOP\n",
      "FvICE_ALK\t  POC_FLUX_IN\t\tWSUBM\n",
      "FvICE_DIC\t  POC_PROD\t\tWT_CFC11\n",
      "FvPER_ALK\t  PREC_F\t\tWT_CFC12\n",
      "FvPER_DIC\t  PV\t\t\tWT_IAGE\n",
      "FW\t\t  Q\t\t\tWTS\n",
      "get\t\t  QFLUX\t\t\tWTT\n",
      "graze_diat\t  QSW_3D\t\tWVEL\n",
      "graze_diaz\t  QSW_HBL\t\tWVEL2\n",
      "graze_sp\t  QSW_HTP\t\tXBLT\n",
      "H2CO3\t\t  RESID_S\t\tXMXL\n",
      "HBLT\t\t  RESID_T\t\tzooC\n",
      "HCO3\t\t  RHO\t\t\tzoo_loss\n",
      "HDIFB_CFC11\t  RHO_VINT\t\tzsatarag\n",
      "HDIFB_CFC12\t  ROFF_F\t\tzsatcalc\n",
      "HDIFB_IAGE\t  SALT\n",
      "HDIFB_SALT\t  SALT_F\n"
     ]
    }
   ],
   "source": [
    "!ls {lens_dataset/'ocn'/'proc'/'tseries'/'monthly'}"
   ]
  },
  {
   "cell_type": "code",
   "execution_count": 15,
   "metadata": {},
   "outputs": [
    {
     "name": "stdout",
     "output_type": "stream",
     "text": [
      "b.e11.B1850C5CN.f09_g16.005.pop.h.TAUX.040001-049912.nc\n",
      "b.e11.B1850C5CN.f09_g16.005.pop.h.TAUX.050001-059912.nc\n",
      "b.e11.B1850C5CN.f09_g16.005.pop.h.TAUX.060001-069912.nc\n",
      "b.e11.B1850C5CN.f09_g16.005.pop.h.TAUX.070001-079912.nc\n",
      "b.e11.B1850C5CN.f09_g16.005.pop.h.TAUX.080001-089912.nc\n",
      "b.e11.B1850C5CN.f09_g16.005.pop.h.TAUX.090001-099912.nc\n",
      "b.e11.B1850C5CN.f09_g16.005.pop.h.TAUX.100001-109912.nc\n",
      "b.e11.B1850C5CN.f09_g16.005.pop.h.TAUX.110001-119912.nc\n",
      "b.e11.B1850C5CN.f09_g16.005.pop.h.TAUX.120001-129912.nc\n",
      "b.e11.B1850C5CN.f09_g16.005.pop.h.TAUX.130001-139912.nc\n",
      "b.e11.B1850C5CN.f09_g16.005.pop.h.TAUX.140001-149912.nc\n",
      "b.e11.B1850C5CN.f09_g16.005.pop.h.TAUX.150001-159912.nc\n",
      "b.e11.B1850C5CN.f09_g16.005.pop.h.TAUX.160001-169912.nc\n",
      "b.e11.B1850C5CN.f09_g16.005.pop.h.TAUX.170001-179912.nc\n",
      "b.e11.B1850C5CN.f09_g16.005.pop.h.TAUX.180001-189912.nc\n",
      "b.e11.B1850C5CN.f09_g16.005.pop.h.TAUX.190001-199912.nc\n",
      "b.e11.B1850C5CN.f09_g16.005.pop.h.TAUX.200001-209912.nc\n",
      "b.e11.B1850C5CN.f09_g16.005.pop.h.TAUX.210001-220012.nc\n",
      "b.e11.B1850LENS_RAMP.2xcap.f09_g16.001.pop.h.TAUX.000101-009912.nc\n",
      "b.e11.B1850LENS_RAMP.2xcap.f09_g16.001.pop.h.TAUX.010001-019912.nc\n",
      "b.e11.B1850LENS_RAMP.2xcap.f09_g16.001.pop.h.TAUX.020001-030512.nc\n",
      "b.e11.B20TRC5CNBDRD.f09_g16.001.pop.h.TAUX.185001-200512.nc\n",
      "b.e11.B20TRC5CNBDRD.f09_g16.002.pop.h.TAUX.192001-200512.nc\n",
      "b.e11.B20TRC5CNBDRD.f09_g16.003.pop.h.TAUX.192001-200512.nc\n",
      "b.e11.B20TRC5CNBDRD.f09_g16.004.pop.h.TAUX.192001-200512.nc\n",
      "b.e11.B20TRC5CNBDRD.f09_g16.005.pop.h.TAUX.192001-200512.nc\n",
      "b.e11.B20TRC5CNBDRD.f09_g16.006.pop.h.TAUX.192001-200512.nc\n",
      "b.e11.B20TRC5CNBDRD.f09_g16.007.pop.h.TAUX.192001-200512.nc\n",
      "b.e11.B20TRC5CNBDRD.f09_g16.008.pop.h.TAUX.192001-200512.nc\n",
      "b.e11.B20TRC5CNBDRD.f09_g16.009.pop.h.TAUX.192001-200512.nc\n",
      "b.e11.B20TRC5CNBDRD.f09_g16.010.pop.h.TAUX.192001-200512.nc\n",
      "b.e11.B20TRC5CNBDRD.f09_g16.011.pop.h.TAUX.192001-200512.nc\n",
      "b.e11.B20TRC5CNBDRD.f09_g16.012.pop.h.TAUX.192001-200512.nc\n",
      "b.e11.B20TRC5CNBDRD.f09_g16.013.pop.h.TAUX.192001-200512.nc\n",
      "b.e11.B20TRC5CNBDRD.f09_g16.014.pop.h.TAUX.192001-200512.nc\n",
      "b.e11.B20TRC5CNBDRD.f09_g16.015.pop.h.TAUX.192001-200512.nc\n",
      "b.e11.B20TRC5CNBDRD.f09_g16.016.pop.h.TAUX.192001-200512.nc\n",
      "b.e11.B20TRC5CNBDRD.f09_g16.017.pop.h.TAUX.192001-200512.nc\n",
      "b.e11.B20TRC5CNBDRD.f09_g16.018.pop.h.TAUX.192001-200512.nc\n",
      "b.e11.B20TRC5CNBDRD.f09_g16.019.pop.h.TAUX.192001-200512.nc\n",
      "b.e11.B20TRC5CNBDRD.f09_g16.020.pop.h.TAUX.192001-200512.nc\n",
      "b.e11.B20TRC5CNBDRD.f09_g16.021.pop.h.TAUX.192001-200512.nc\n",
      "b.e11.B20TRC5CNBDRD.f09_g16.022.pop.h.TAUX.192001-200512.nc\n",
      "b.e11.B20TRC5CNBDRD.f09_g16.023.pop.h.TAUX.192001-200512.nc\n",
      "b.e11.B20TRC5CNBDRD.f09_g16.024.pop.h.TAUX.192001-200512.nc\n",
      "b.e11.B20TRC5CNBDRD.f09_g16.025.pop.h.TAUX.192001-200512.nc\n",
      "b.e11.B20TRC5CNBDRD.f09_g16.026.pop.h.TAUX.192001-200512.nc\n",
      "b.e11.B20TRC5CNBDRD.f09_g16.027.pop.h.TAUX.192001-200512.nc\n",
      "b.e11.B20TRC5CNBDRD.f09_g16.028.pop.h.TAUX.192001-200512.nc\n",
      "b.e11.B20TRC5CNBDRD.f09_g16.029.pop.h.TAUX.192001-200512.nc\n",
      "b.e11.B20TRC5CNBDRD.f09_g16.030.pop.h.TAUX.192001-200512.nc\n",
      "b.e11.B20TRC5CNBDRD.f09_g16.031.pop.h.TAUX.192001-200512.nc\n",
      "b.e11.B20TRC5CNBDRD.f09_g16.032.pop.h.TAUX.192001-200512.nc\n",
      "b.e11.B20TRC5CNBDRD.f09_g16.033.pop.h.TAUX.192001-200512.nc\n",
      "b.e11.B20TRC5CNBDRD.f09_g16.034.pop.h.TAUX.192001-200512.nc\n",
      "b.e11.B20TRC5CNBDRD.f09_g16.035.pop.h.TAUX.192001-200512.nc\n",
      "b.e11.B20TRC5CNBDRD.f09_g16.101.pop.h.TAUX.192001-200512.nc\n",
      "b.e11.B20TRC5CNBDRD.f09_g16.102.pop.h.TAUX.192001-200512.nc\n",
      "b.e11.B20TRC5CNBDRD.f09_g16.103.pop.h.TAUX.192001-200512.nc\n",
      "b.e11.B20TRC5CNBDRD.f09_g16.104.pop.h.TAUX.192001-200512.nc\n",
      "b.e11.B20TRC5CNBDRD.f09_g16.105.pop.h.TAUX.192001-200512.nc\n",
      "b.e11.B20TRC5CNBDRD.f09_g16.106.pop.h.TAUX.192001-200512.nc\n",
      "b.e11.B20TRC5CNBDRD.f09_g16.107.pop.h.TAUX.192001-200512.nc\n",
      "b.e11.B20TRC5CNBDRD.f09_g16.OIC.001d.pop.h.TAUX.185001-199912.nc\n",
      "b.e11.B20TRC5CNBDRD.f09_g16.OIC.002.pop.h.TAUX.192001-199912.nc\n",
      "b.e11.B20TRC5CNBDRD.f09_g16.OIC.003.pop.h.TAUX.192001-199912.nc\n",
      "b.e11.B20TRC5CNBDRD.f09_g16.OIC.004.pop.h.TAUX.192001-199912.nc\n",
      "b.e11.B20TRC5CNBDRD.f09_g16.OIC.005.pop.h.TAUX.192001-199912.nc\n",
      "b.e11.B20TRC5CNBDRD.f09_g16.OIC.006.pop.h.TAUX.192001-199912.nc\n",
      "b.e11.B20TRC5CNBDRD.f09_g16.OIC.007.pop.h.TAUX.192001-199912.nc\n",
      "b.e11.B20TRC5CNBDRD.f09_g16.OIC.008.pop.h.TAUX.192001-199912.nc\n",
      "b.e11.B20TRC5CNBDRD.f09_g16.OIC.009.pop.h.TAUX.192001-199912.nc\n",
      "b.e11.B20TRC5CNBDRD.f09_g16.OIC.010.pop.h.TAUX.192001-199912.nc\n",
      "b.e11.BRCP85C5CNBDRD.f09_g16.001.pop.h.TAUX.200601-208012.nc\n",
      "b.e11.BRCP85C5CNBDRD.f09_g16.001.pop.h.TAUX.208101-210012.nc\n",
      "b.e11.BRCP85C5CNBDRD.f09_g16.002.pop.h.TAUX.200601-208012.nc\n",
      "b.e11.BRCP85C5CNBDRD.f09_g16.002.pop.h.TAUX.208101-210012.nc\n",
      "b.e11.BRCP85C5CNBDRD.f09_g16.003.pop.h.TAUX.200601-208012.nc\n",
      "b.e11.BRCP85C5CNBDRD.f09_g16.003.pop.h.TAUX.208101-210012.nc\n",
      "b.e11.BRCP85C5CNBDRD.f09_g16.004.pop.h.TAUX.200601-208012.nc\n",
      "b.e11.BRCP85C5CNBDRD.f09_g16.004.pop.h.TAUX.208101-210012.nc\n",
      "b.e11.BRCP85C5CNBDRD.f09_g16.005.pop.h.TAUX.200601-208012.nc\n",
      "b.e11.BRCP85C5CNBDRD.f09_g16.005.pop.h.TAUX.208101-210012.nc\n",
      "b.e11.BRCP85C5CNBDRD.f09_g16.006.pop.h.TAUX.200601-208012.nc\n",
      "b.e11.BRCP85C5CNBDRD.f09_g16.006.pop.h.TAUX.208101-210012.nc\n",
      "b.e11.BRCP85C5CNBDRD.f09_g16.007.pop.h.TAUX.200601-208012.nc\n",
      "b.e11.BRCP85C5CNBDRD.f09_g16.007.pop.h.TAUX.208101-210012.nc\n",
      "b.e11.BRCP85C5CNBDRD.f09_g16.008.pop.h.TAUX.200601-208012.nc\n",
      "b.e11.BRCP85C5CNBDRD.f09_g16.008.pop.h.TAUX.208101-210012.nc\n",
      "b.e11.BRCP85C5CNBDRD.f09_g16.009.pop.h.TAUX.200601-208012.nc\n",
      "b.e11.BRCP85C5CNBDRD.f09_g16.009.pop.h.TAUX.208101-210012.nc\n",
      "b.e11.BRCP85C5CNBDRD.f09_g16.010.pop.h.TAUX.200601-208012.nc\n",
      "b.e11.BRCP85C5CNBDRD.f09_g16.010.pop.h.TAUX.208101-210012.nc\n",
      "b.e11.BRCP85C5CNBDRD.f09_g16.011.pop.h.TAUX.200601-208012.nc\n",
      "b.e11.BRCP85C5CNBDRD.f09_g16.011.pop.h.TAUX.208101-210012.nc\n",
      "b.e11.BRCP85C5CNBDRD.f09_g16.012.pop.h.TAUX.200601-208012.nc\n",
      "b.e11.BRCP85C5CNBDRD.f09_g16.012.pop.h.TAUX.208101-210012.nc\n",
      "b.e11.BRCP85C5CNBDRD.f09_g16.013.pop.h.TAUX.200601-208012.nc\n",
      "b.e11.BRCP85C5CNBDRD.f09_g16.013.pop.h.TAUX.208101-210012.nc\n",
      "b.e11.BRCP85C5CNBDRD.f09_g16.014.pop.h.TAUX.200601-208012.nc\n",
      "b.e11.BRCP85C5CNBDRD.f09_g16.014.pop.h.TAUX.208101-210012.nc\n",
      "b.e11.BRCP85C5CNBDRD.f09_g16.015.pop.h.TAUX.200601-208012.nc\n",
      "b.e11.BRCP85C5CNBDRD.f09_g16.015.pop.h.TAUX.208101-210012.nc\n",
      "b.e11.BRCP85C5CNBDRD.f09_g16.016.pop.h.TAUX.200601-208012.nc\n",
      "b.e11.BRCP85C5CNBDRD.f09_g16.016.pop.h.TAUX.208101-210012.nc\n",
      "b.e11.BRCP85C5CNBDRD.f09_g16.017.pop.h.TAUX.200601-208012.nc\n",
      "b.e11.BRCP85C5CNBDRD.f09_g16.017.pop.h.TAUX.208101-210012.nc\n",
      "b.e11.BRCP85C5CNBDRD.f09_g16.018.pop.h.TAUX.200601-208012.nc\n",
      "b.e11.BRCP85C5CNBDRD.f09_g16.018.pop.h.TAUX.208101-210012.nc\n",
      "b.e11.BRCP85C5CNBDRD.f09_g16.019.pop.h.TAUX.200601-208012.nc\n",
      "b.e11.BRCP85C5CNBDRD.f09_g16.019.pop.h.TAUX.208101-210012.nc\n",
      "b.e11.BRCP85C5CNBDRD.f09_g16.020.pop.h.TAUX.200601-208012.nc\n",
      "b.e11.BRCP85C5CNBDRD.f09_g16.020.pop.h.TAUX.208101-210012.nc\n",
      "b.e11.BRCP85C5CNBDRD.f09_g16.021.pop.h.TAUX.200601-208012.nc\n",
      "b.e11.BRCP85C5CNBDRD.f09_g16.021.pop.h.TAUX.208101-210012.nc\n",
      "b.e11.BRCP85C5CNBDRD.f09_g16.022.pop.h.TAUX.200601-208012.nc\n",
      "b.e11.BRCP85C5CNBDRD.f09_g16.022.pop.h.TAUX.208101-210012.nc\n",
      "b.e11.BRCP85C5CNBDRD.f09_g16.023.pop.h.TAUX.200601-208012.nc\n",
      "b.e11.BRCP85C5CNBDRD.f09_g16.023.pop.h.TAUX.208101-210012.nc\n",
      "b.e11.BRCP85C5CNBDRD.f09_g16.024.pop.h.TAUX.200601-208012.nc\n",
      "b.e11.BRCP85C5CNBDRD.f09_g16.024.pop.h.TAUX.208101-210012.nc\n",
      "b.e11.BRCP85C5CNBDRD.f09_g16.025.pop.h.TAUX.200601-208012.nc\n",
      "b.e11.BRCP85C5CNBDRD.f09_g16.025.pop.h.TAUX.208101-210012.nc\n",
      "b.e11.BRCP85C5CNBDRD.f09_g16.026.pop.h.TAUX.200601-208012.nc\n",
      "b.e11.BRCP85C5CNBDRD.f09_g16.026.pop.h.TAUX.208101-210012.nc\n",
      "b.e11.BRCP85C5CNBDRD.f09_g16.027.pop.h.TAUX.200601-208012.nc\n",
      "b.e11.BRCP85C5CNBDRD.f09_g16.027.pop.h.TAUX.208101-210012.nc\n",
      "b.e11.BRCP85C5CNBDRD.f09_g16.028.pop.h.TAUX.200601-208012.nc\n",
      "b.e11.BRCP85C5CNBDRD.f09_g16.028.pop.h.TAUX.208101-210012.nc\n",
      "b.e11.BRCP85C5CNBDRD.f09_g16.029.pop.h.TAUX.200601-208012.nc\n",
      "b.e11.BRCP85C5CNBDRD.f09_g16.029.pop.h.TAUX.208101-210012.nc\n",
      "b.e11.BRCP85C5CNBDRD.f09_g16.030.pop.h.TAUX.200601-208012.nc\n",
      "b.e11.BRCP85C5CNBDRD.f09_g16.030.pop.h.TAUX.208101-210012.nc\n",
      "b.e11.BRCP85C5CNBDRD.f09_g16.031.pop.h.TAUX.200601-208012.nc\n",
      "b.e11.BRCP85C5CNBDRD.f09_g16.031.pop.h.TAUX.208101-210012.nc\n",
      "b.e11.BRCP85C5CNBDRD.f09_g16.032.pop.h.TAUX.200601-208012.nc\n",
      "b.e11.BRCP85C5CNBDRD.f09_g16.032.pop.h.TAUX.208101-210012.nc\n",
      "b.e11.BRCP85C5CNBDRD.f09_g16.033.pop.h.TAUX.200601-208012.nc\n",
      "b.e11.BRCP85C5CNBDRD.f09_g16.033.pop.h.TAUX.208101-210012.nc\n",
      "b.e11.BRCP85C5CNBDRD.f09_g16.034.pop.h.TAUX.200601-210012.nc\n",
      "b.e11.BRCP85C5CNBDRD.f09_g16.035.pop.h.TAUX.200601-210012.nc\n",
      "b.e11.BRCP85C5CNBDRD.f09_g16.101.pop.h.TAUX.200601-210012.nc\n",
      "b.e11.BRCP85C5CNBDRD.f09_g16.102.pop.h.TAUX.200601-210012.nc\n",
      "b.e11.BRCP85C5CNBDRD.f09_g16.103.pop.h.TAUX.200601-210012.nc\n",
      "b.e11.BRCP85C5CNBDRD.f09_g16.104.pop.h.TAUX.200601-210012.nc\n",
      "b.e11.BRCP85C5CNBDRD.f09_g16.105.pop.h.TAUX.200601-210012.nc\n"
     ]
    }
   ],
   "source": [
    "!ls {lens_dataset/'ocn'/'proc'/'tseries'/'monthly'/'TAUX'}"
   ]
  },
  {
   "cell_type": "code",
   "execution_count": 24,
   "metadata": {},
   "outputs": [
    {
     "data": {
      "text/plain": [
       "['b.e11.B20TRC5CNBDRD.f09_g16.001.pop.h.TAUX.185001-200512.nc',\n",
       " 'b.e11.BRCP85C5CNBDRD.f09_g16.001.pop.h.TAUX.200601-208012.nc',\n",
       " 'b.e11.BRCP85C5CNBDRD.f09_g16.002.pop.h.TAUX.200601-208012.nc',\n",
       " 'b.e11.B20TRC5CNBDRD.f09_g16.002.pop.h.TAUX.192001-200512.nc',\n",
       " 'b.e11.B20TRC5CNBDRD.f09_g16.003.pop.h.TAUX.192001-200512.nc',\n",
       " 'b.e11.B20TRC5CNBDRD.f09_g16.004.pop.h.TAUX.192001-200512.nc',\n",
       " 'b.e11.BRCP85C5CNBDRD.f09_g16.003.pop.h.TAUX.200601-208012.nc',\n",
       " 'b.e11.B20TRC5CNBDRD.f09_g16.006.pop.h.TAUX.192001-200512.nc',\n",
       " 'b.e11.B20TRC5CNBDRD.f09_g16.005.pop.h.TAUX.192001-200512.nc',\n",
       " 'b.e11.B20TRC5CNBDRD.f09_g16.007.pop.h.TAUX.192001-200512.nc',\n",
       " 'b.e11.BRCP85C5CNBDRD.f09_g16.006.pop.h.TAUX.200601-208012.nc',\n",
       " 'b.e11.B1850C5CN.f09_g16.005.pop.h.TAUX.040001-049912.nc',\n",
       " 'b.e11.B1850C5CN.f09_g16.005.pop.h.TAUX.050001-059912.nc',\n",
       " 'b.e11.B1850C5CN.f09_g16.005.pop.h.TAUX.060001-069912.nc',\n",
       " 'b.e11.BRCP85C5CNBDRD.f09_g16.005.pop.h.TAUX.200601-208012.nc',\n",
       " 'b.e11.B1850C5CN.f09_g16.005.pop.h.TAUX.110001-119912.nc',\n",
       " 'b.e11.B1850C5CN.f09_g16.005.pop.h.TAUX.070001-079912.nc',\n",
       " 'b.e11.B1850C5CN.f09_g16.005.pop.h.TAUX.100001-109912.nc',\n",
       " 'b.e11.B20TRC5CNBDRD.f09_g16.008.pop.h.TAUX.192001-200512.nc',\n",
       " 'b.e11.B1850C5CN.f09_g16.005.pop.h.TAUX.080001-089912.nc',\n",
       " 'b.e11.B1850C5CN.f09_g16.005.pop.h.TAUX.090001-099912.nc',\n",
       " 'b.e11.B1850C5CN.f09_g16.005.pop.h.TAUX.120001-129912.nc',\n",
       " 'b.e11.BRCP85C5CNBDRD.f09_g16.007.pop.h.TAUX.200601-208012.nc',\n",
       " 'b.e11.BRCP85C5CNBDRD.f09_g16.008.pop.h.TAUX.200601-208012.nc',\n",
       " 'b.e11.B20TRC5CNBDRD.f09_g16.010.pop.h.TAUX.192001-200512.nc',\n",
       " 'b.e11.B20TRC5CNBDRD.f09_g16.009.pop.h.TAUX.192001-200512.nc',\n",
       " 'b.e11.BRCP85C5CNBDRD.f09_g16.010.pop.h.TAUX.200601-208012.nc',\n",
       " 'b.e11.B1850C5CN.f09_g16.005.pop.h.TAUX.140001-149912.nc',\n",
       " 'b.e11.B20TRC5CNBDRD.f09_g16.011.pop.h.TAUX.192001-200512.nc',\n",
       " 'b.e11.B20TRC5CNBDRD.f09_g16.012.pop.h.TAUX.192001-200512.nc',\n",
       " 'b.e11.BRCP85C5CNBDRD.f09_g16.009.pop.h.TAUX.200601-208012.nc',\n",
       " 'b.e11.BRCP85C5CNBDRD.f09_g16.004.pop.h.TAUX.200601-208012.nc',\n",
       " 'b.e11.BRCP85C5CNBDRD.f09_g16.011.pop.h.TAUX.200601-208012.nc',\n",
       " 'b.e11.BRCP85C5CNBDRD.f09_g16.012.pop.h.TAUX.200601-208012.nc',\n",
       " 'b.e11.B20TRC5CNBDRD.f09_g16.013.pop.h.TAUX.192001-200512.nc',\n",
       " 'b.e11.BRCP85C5CNBDRD.f09_g16.014.pop.h.TAUX.200601-208012.nc',\n",
       " 'b.e11.B20TRC5CNBDRD.f09_g16.015.pop.h.TAUX.192001-200512.nc',\n",
       " 'b.e11.B20TRC5CNBDRD.f09_g16.016.pop.h.TAUX.192001-200512.nc',\n",
       " 'b.e11.B1850C5CN.f09_g16.005.pop.h.TAUX.130001-139912.nc',\n",
       " 'b.e11.B20TRC5CNBDRD.f09_g16.014.pop.h.TAUX.192001-200512.nc',\n",
       " 'b.e11.BRCP85C5CNBDRD.f09_g16.013.pop.h.TAUX.200601-208012.nc',\n",
       " 'b.e11.B20TRC5CNBDRD.f09_g16.017.pop.h.TAUX.192001-200512.nc',\n",
       " 'b.e11.BRCP85C5CNBDRD.f09_g16.015.pop.h.TAUX.200601-208012.nc',\n",
       " 'b.e11.BRCP85C5CNBDRD.f09_g16.016.pop.h.TAUX.200601-208012.nc',\n",
       " 'b.e11.B20TRC5CNBDRD.f09_g16.019.pop.h.TAUX.192001-200512.nc',\n",
       " 'b.e11.BRCP85C5CNBDRD.f09_g16.017.pop.h.TAUX.200601-208012.nc',\n",
       " 'b.e11.B20TRC5CNBDRD.f09_g16.020.pop.h.TAUX.192001-200512.nc',\n",
       " 'b.e11.BRCP85C5CNBDRD.f09_g16.019.pop.h.TAUX.200601-208012.nc',\n",
       " 'b.e11.B20TRC5CNBDRD.f09_g16.022.pop.h.TAUX.192001-200512.nc',\n",
       " 'b.e11.BRCP85C5CNBDRD.f09_g16.020.pop.h.TAUX.200601-208012.nc',\n",
       " 'b.e11.B20TRC5CNBDRD.f09_g16.018.pop.h.TAUX.192001-200512.nc',\n",
       " 'b.e11.B20TRC5CNBDRD.f09_g16.023.pop.h.TAUX.192001-200512.nc',\n",
       " 'b.e11.BRCP85C5CNBDRD.f09_g16.022.pop.h.TAUX.200601-208012.nc',\n",
       " 'b.e11.BRCP85C5CNBDRD.f09_g16.018.pop.h.TAUX.200601-208012.nc',\n",
       " 'b.e11.B20TRC5CNBDRD.f09_g16.021.pop.h.TAUX.192001-200512.nc',\n",
       " 'b.e11.BRCP85C5CNBDRD.f09_g16.023.pop.h.TAUX.200601-208012.nc',\n",
       " 'b.e11.B20TRC5CNBDRD.f09_g16.025.pop.h.TAUX.192001-200512.nc',\n",
       " 'b.e11.BRCP85C5CNBDRD.f09_g16.025.pop.h.TAUX.200601-208012.nc',\n",
       " 'b.e11.B20TRC5CNBDRD.f09_g16.026.pop.h.TAUX.192001-200512.nc',\n",
       " 'b.e11.BRCP85C5CNBDRD.f09_g16.021.pop.h.TAUX.200601-208012.nc',\n",
       " 'b.e11.BRCP85C5CNBDRD.f09_g16.026.pop.h.TAUX.200601-208012.nc',\n",
       " 'b.e11.B20TRC5CNBDRD.f09_g16.028.pop.h.TAUX.192001-200512.nc',\n",
       " 'b.e11.B20TRC5CNBDRD.f09_g16.024.pop.h.TAUX.192001-200512.nc',\n",
       " 'b.e11.BRCP85C5CNBDRD.f09_g16.028.pop.h.TAUX.200601-208012.nc',\n",
       " 'b.e11.B20TRC5CNBDRD.f09_g16.029.pop.h.TAUX.192001-200512.nc',\n",
       " 'b.e11.B1850C5CN.f09_g16.005.pop.h.TAUX.190001-199912.nc',\n",
       " 'b.e11.B20TRC5CNBDRD.f09_g16.030.pop.h.TAUX.192001-200512.nc',\n",
       " 'b.e11.BRCP85C5CNBDRD.f09_g16.029.pop.h.TAUX.200601-208012.nc',\n",
       " 'b.e11.BRCP85C5CNBDRD.f09_g16.024.pop.h.TAUX.200601-208012.nc',\n",
       " 'b.e11.B20TRC5CNBDRD.f09_g16.027.pop.h.TAUX.192001-200512.nc',\n",
       " 'b.e11.BRCP85C5CNBDRD.f09_g16.030.pop.h.TAUX.200601-208012.nc',\n",
       " 'b.e11.BRCP85C5CNBDRD.f09_g16.027.pop.h.TAUX.200601-208012.nc',\n",
       " 'b.e11.BRCP85C5CNBDRD.f09_g16.001.pop.h.TAUX.208101-210012.nc',\n",
       " 'b.e11.BRCP85C5CNBDRD.f09_g16.004.pop.h.TAUX.208101-210012.nc',\n",
       " 'b.e11.BRCP85C5CNBDRD.f09_g16.002.pop.h.TAUX.208101-210012.nc',\n",
       " 'b.e11.BRCP85C5CNBDRD.f09_g16.003.pop.h.TAUX.208101-210012.nc',\n",
       " 'b.e11.BRCP85C5CNBDRD.f09_g16.008.pop.h.TAUX.208101-210012.nc',\n",
       " 'b.e11.BRCP85C5CNBDRD.f09_g16.010.pop.h.TAUX.208101-210012.nc',\n",
       " 'b.e11.BRCP85C5CNBDRD.f09_g16.012.pop.h.TAUX.208101-210012.nc',\n",
       " 'b.e11.BRCP85C5CNBDRD.f09_g16.006.pop.h.TAUX.208101-210012.nc',\n",
       " 'b.e11.BRCP85C5CNBDRD.f09_g16.014.pop.h.TAUX.208101-210012.nc',\n",
       " 'b.e11.BRCP85C5CNBDRD.f09_g16.016.pop.h.TAUX.208101-210012.nc',\n",
       " 'b.e11.BRCP85C5CNBDRD.f09_g16.017.pop.h.TAUX.208101-210012.nc',\n",
       " 'b.e11.BRCP85C5CNBDRD.f09_g16.019.pop.h.TAUX.208101-210012.nc',\n",
       " 'b.e11.BRCP85C5CNBDRD.f09_g16.020.pop.h.TAUX.208101-210012.nc',\n",
       " 'b.e11.BRCP85C5CNBDRD.f09_g16.022.pop.h.TAUX.208101-210012.nc',\n",
       " 'b.e11.BRCP85C5CNBDRD.f09_g16.023.pop.h.TAUX.208101-210012.nc',\n",
       " 'b.e11.BRCP85C5CNBDRD.f09_g16.025.pop.h.TAUX.208101-210012.nc',\n",
       " 'b.e11.BRCP85C5CNBDRD.f09_g16.027.pop.h.TAUX.208101-210012.nc',\n",
       " 'b.e11.BRCP85C5CNBDRD.f09_g16.026.pop.h.TAUX.208101-210012.nc',\n",
       " 'b.e11.BRCP85C5CNBDRD.f09_g16.028.pop.h.TAUX.208101-210012.nc',\n",
       " 'b.e11.BRCP85C5CNBDRD.f09_g16.029.pop.h.TAUX.208101-210012.nc',\n",
       " 'b.e11.BRCP85C5CNBDRD.f09_g16.030.pop.h.TAUX.208101-210012.nc',\n",
       " 'b.e11.BRCP85C5CNBDRD.f09_g16.005.pop.h.TAUX.208101-210012.nc',\n",
       " 'b.e11.BRCP85C5CNBDRD.f09_g16.009.pop.h.TAUX.208101-210012.nc',\n",
       " 'b.e11.BRCP85C5CNBDRD.f09_g16.007.pop.h.TAUX.208101-210012.nc',\n",
       " 'b.e11.BRCP85C5CNBDRD.f09_g16.011.pop.h.TAUX.208101-210012.nc',\n",
       " 'b.e11.BRCP85C5CNBDRD.f09_g16.013.pop.h.TAUX.208101-210012.nc',\n",
       " 'b.e11.BRCP85C5CNBDRD.f09_g16.015.pop.h.TAUX.208101-210012.nc',\n",
       " 'b.e11.BRCP85C5CNBDRD.f09_g16.018.pop.h.TAUX.208101-210012.nc',\n",
       " 'b.e11.BRCP85C5CNBDRD.f09_g16.021.pop.h.TAUX.208101-210012.nc',\n",
       " 'b.e11.BRCP85C5CNBDRD.f09_g16.024.pop.h.TAUX.208101-210012.nc',\n",
       " 'b.e11.B1850C5CN.f09_g16.005.pop.h.TAUX.150001-159912.nc',\n",
       " 'b.e11.B1850C5CN.f09_g16.005.pop.h.TAUX.160001-169912.nc',\n",
       " 'b.e11.B1850C5CN.f09_g16.005.pop.h.TAUX.170001-179912.nc',\n",
       " 'b.e11.B1850C5CN.f09_g16.005.pop.h.TAUX.180001-189912.nc',\n",
       " 'b.e11.B1850C5CN.f09_g16.005.pop.h.TAUX.200001-209912.nc',\n",
       " 'b.e11.B1850C5CN.f09_g16.005.pop.h.TAUX.210001-220012.nc',\n",
       " 'b.e11.B20TRC5CNBDRD.f09_g16.106.pop.h.TAUX.192001-200512.nc',\n",
       " 'b.e11.B20TRC5CNBDRD.f09_g16.107.pop.h.TAUX.192001-200512.nc',\n",
       " 'b.e11.BRCP85C5CNBDRD.f09_g16.101.pop.h.TAUX.200601-210012.nc',\n",
       " 'b.e11.BRCP85C5CNBDRD.f09_g16.102.pop.h.TAUX.200601-210012.nc',\n",
       " 'b.e11.BRCP85C5CNBDRD.f09_g16.103.pop.h.TAUX.200601-210012.nc',\n",
       " 'b.e11.BRCP85C5CNBDRD.f09_g16.104.pop.h.TAUX.200601-210012.nc',\n",
       " 'b.e11.BRCP85C5CNBDRD.f09_g16.105.pop.h.TAUX.200601-210012.nc',\n",
       " 'b.e11.B1850LENS_RAMP.2xcap.f09_g16.001.pop.h.TAUX.020001-030512.nc',\n",
       " 'b.e11.B1850LENS_RAMP.2xcap.f09_g16.001.pop.h.TAUX.010001-019912.nc',\n",
       " 'b.e11.B1850LENS_RAMP.2xcap.f09_g16.001.pop.h.TAUX.000101-009912.nc',\n",
       " 'b.e11.B20TRC5CNBDRD.f09_g16.101.pop.h.TAUX.192001-200512.nc',\n",
       " 'b.e11.B20TRC5CNBDRD.f09_g16.102.pop.h.TAUX.192001-200512.nc',\n",
       " 'b.e11.B20TRC5CNBDRD.f09_g16.031.pop.h.TAUX.192001-200512.nc',\n",
       " 'b.e11.B20TRC5CNBDRD.f09_g16.032.pop.h.TAUX.192001-200512.nc',\n",
       " 'b.e11.B20TRC5CNBDRD.f09_g16.033.pop.h.TAUX.192001-200512.nc',\n",
       " 'b.e11.BRCP85C5CNBDRD.f09_g16.031.pop.h.TAUX.200601-208012.nc',\n",
       " 'b.e11.BRCP85C5CNBDRD.f09_g16.031.pop.h.TAUX.208101-210012.nc',\n",
       " 'b.e11.BRCP85C5CNBDRD.f09_g16.032.pop.h.TAUX.200601-208012.nc',\n",
       " 'b.e11.BRCP85C5CNBDRD.f09_g16.032.pop.h.TAUX.208101-210012.nc',\n",
       " 'b.e11.BRCP85C5CNBDRD.f09_g16.033.pop.h.TAUX.200601-208012.nc',\n",
       " 'b.e11.BRCP85C5CNBDRD.f09_g16.033.pop.h.TAUX.208101-210012.nc',\n",
       " 'b.e11.B20TRC5CNBDRD.f09_g16.103.pop.h.TAUX.192001-200512.nc',\n",
       " 'b.e11.B20TRC5CNBDRD.f09_g16.OIC.001d.pop.h.TAUX.185001-199912.nc',\n",
       " 'b.e11.B20TRC5CNBDRD.f09_g16.OIC.002.pop.h.TAUX.192001-199912.nc',\n",
       " 'b.e11.B20TRC5CNBDRD.f09_g16.OIC.003.pop.h.TAUX.192001-199912.nc',\n",
       " 'b.e11.B20TRC5CNBDRD.f09_g16.OIC.004.pop.h.TAUX.192001-199912.nc',\n",
       " 'b.e11.B20TRC5CNBDRD.f09_g16.OIC.005.pop.h.TAUX.192001-199912.nc',\n",
       " 'b.e11.B20TRC5CNBDRD.f09_g16.OIC.006.pop.h.TAUX.192001-199912.nc',\n",
       " 'b.e11.B20TRC5CNBDRD.f09_g16.OIC.007.pop.h.TAUX.192001-199912.nc',\n",
       " 'b.e11.B20TRC5CNBDRD.f09_g16.OIC.008.pop.h.TAUX.192001-199912.nc',\n",
       " 'b.e11.B20TRC5CNBDRD.f09_g16.OIC.009.pop.h.TAUX.192001-199912.nc',\n",
       " 'b.e11.B20TRC5CNBDRD.f09_g16.OIC.010.pop.h.TAUX.192001-199912.nc',\n",
       " 'b.e11.B20TRC5CNBDRD.f09_g16.104.pop.h.TAUX.192001-200512.nc',\n",
       " 'b.e11.B20TRC5CNBDRD.f09_g16.105.pop.h.TAUX.192001-200512.nc',\n",
       " 'b.e11.B20TRC5CNBDRD.f09_g16.034.pop.h.TAUX.192001-200512.nc',\n",
       " 'b.e11.B20TRC5CNBDRD.f09_g16.035.pop.h.TAUX.192001-200512.nc',\n",
       " 'b.e11.BRCP85C5CNBDRD.f09_g16.034.pop.h.TAUX.200601-210012.nc',\n",
       " 'b.e11.BRCP85C5CNBDRD.f09_g16.035.pop.h.TAUX.200601-210012.nc']"
      ]
     },
     "execution_count": 24,
     "metadata": {},
     "output_type": "execute_result"
    }
   ],
   "source": [
    "taux = os.listdir(lens_dataset/'ocn'/'proc'/'tseries'/'monthly'/'TAUX')\n",
    "taux"
   ]
  },
  {
   "cell_type": "code",
   "execution_count": 59,
   "metadata": {},
   "outputs": [],
   "source": [
    "paths = [str(lens_dataset/'ocn'/'proc'/'tseries'/'monthly'/'TAUX'/dset) for dset in taux[:10]]"
   ]
  },
  {
   "cell_type": "code",
   "execution_count": 60,
   "metadata": {},
   "outputs": [
    {
     "data": {
      "text/plain": [
       "['/glade/p_old/cesmLE/CESM-CAM5-BGC-LE/ocn/proc/tseries/monthly/TAUX/b.e11.B20TRC5CNBDRD.f09_g16.001.pop.h.TAUX.185001-200512.nc',\n",
       " '/glade/p_old/cesmLE/CESM-CAM5-BGC-LE/ocn/proc/tseries/monthly/TAUX/b.e11.BRCP85C5CNBDRD.f09_g16.001.pop.h.TAUX.200601-208012.nc',\n",
       " '/glade/p_old/cesmLE/CESM-CAM5-BGC-LE/ocn/proc/tseries/monthly/TAUX/b.e11.BRCP85C5CNBDRD.f09_g16.002.pop.h.TAUX.200601-208012.nc',\n",
       " '/glade/p_old/cesmLE/CESM-CAM5-BGC-LE/ocn/proc/tseries/monthly/TAUX/b.e11.B20TRC5CNBDRD.f09_g16.002.pop.h.TAUX.192001-200512.nc',\n",
       " '/glade/p_old/cesmLE/CESM-CAM5-BGC-LE/ocn/proc/tseries/monthly/TAUX/b.e11.B20TRC5CNBDRD.f09_g16.003.pop.h.TAUX.192001-200512.nc',\n",
       " '/glade/p_old/cesmLE/CESM-CAM5-BGC-LE/ocn/proc/tseries/monthly/TAUX/b.e11.B20TRC5CNBDRD.f09_g16.004.pop.h.TAUX.192001-200512.nc',\n",
       " '/glade/p_old/cesmLE/CESM-CAM5-BGC-LE/ocn/proc/tseries/monthly/TAUX/b.e11.BRCP85C5CNBDRD.f09_g16.003.pop.h.TAUX.200601-208012.nc',\n",
       " '/glade/p_old/cesmLE/CESM-CAM5-BGC-LE/ocn/proc/tseries/monthly/TAUX/b.e11.B20TRC5CNBDRD.f09_g16.006.pop.h.TAUX.192001-200512.nc',\n",
       " '/glade/p_old/cesmLE/CESM-CAM5-BGC-LE/ocn/proc/tseries/monthly/TAUX/b.e11.B20TRC5CNBDRD.f09_g16.005.pop.h.TAUX.192001-200512.nc',\n",
       " '/glade/p_old/cesmLE/CESM-CAM5-BGC-LE/ocn/proc/tseries/monthly/TAUX/b.e11.B20TRC5CNBDRD.f09_g16.007.pop.h.TAUX.192001-200512.nc']"
      ]
     },
     "execution_count": 60,
     "metadata": {},
     "output_type": "execute_result"
    }
   ],
   "source": [
    "paths"
   ]
  },
  {
   "cell_type": "code",
   "execution_count": 61,
   "metadata": {},
   "outputs": [],
   "source": [
    "import xarray as xr"
   ]
  },
  {
   "cell_type": "code",
   "execution_count": 62,
   "metadata": {},
   "outputs": [
    {
     "data": {
      "text/plain": [
       "<xarray.Dataset>\n",
       "Dimensions:               (d2: 2, lat_aux_grid: 395, moc_comp: 3, moc_z: 61, nlat: 384, nlon: 320, time: 1872, transport_comp: 5, transport_reg: 2, z_t: 60, z_t_150m: 15, z_w: 60, z_w_bot: 60, z_w_top: 60)\n",
       "Coordinates:\n",
       "    TLAT                  (nlat, nlon) float64 ...\n",
       "    TLONG                 (nlat, nlon) float64 ...\n",
       "    ULAT                  (nlat, nlon) float64 ...\n",
       "    ULONG                 (nlat, nlon) float64 ...\n",
       "  * lat_aux_grid          (lat_aux_grid) float32 -79.48815 -78.952896 ... 90.0\n",
       "  * moc_z                 (moc_z) float32 0.0 1000.0 ... 525000.94 549999.06\n",
       "  * time                  (time) float64 6.753e+05 6.753e+05 ... 7.322e+05\n",
       "  * z_t                   (z_t) float32 500.0 1500.0 ... 512502.8 537500.0\n",
       "  * z_t_150m              (z_t_150m) float32 500.0 1500.0 ... 13500.0 14500.0\n",
       "  * z_w                   (z_w) float32 0.0 1000.0 2000.0 ... 500004.7 525000.94\n",
       "  * z_w_bot               (z_w_bot) float32 1000.0 2000.0 ... 549999.06\n",
       "  * z_w_top               (z_w_top) float32 0.0 1000.0 ... 500004.7 525000.94\n",
       "Dimensions without coordinates: d2, moc_comp, nlat, nlon, transport_comp, transport_reg\n",
       "Data variables:\n",
       "    ANGLE                 (nlat, nlon) float64 ...\n",
       "    ANGLET                (nlat, nlon) float64 ...\n",
       "    DXT                   (nlat, nlon) float64 ...\n",
       "    DXU                   (nlat, nlon) float64 ...\n",
       "    DYT                   (nlat, nlon) float64 ...\n",
       "    DYU                   (nlat, nlon) float64 ...\n",
       "    HT                    (nlat, nlon) float64 ...\n",
       "    HTE                   (nlat, nlon) float64 ...\n",
       "    HTN                   (nlat, nlon) float64 ...\n",
       "    HU                    (nlat, nlon) float64 ...\n",
       "    HUS                   (nlat, nlon) float64 ...\n",
       "    HUW                   (nlat, nlon) float64 ...\n",
       "    KMT                   (nlat, nlon) float64 ...\n",
       "    KMU                   (nlat, nlon) float64 ...\n",
       "    REGION_MASK           (nlat, nlon) float64 ...\n",
       "    T0_Kelvin             float64 ...\n",
       "    TAREA                 (nlat, nlon) float64 ...\n",
       "    TAUX                  (time, nlat, nlon) float32 ...\n",
       "    UAREA                 (nlat, nlon) float64 ...\n",
       "    cp_air                float64 ...\n",
       "    cp_sw                 float64 ...\n",
       "    days_in_norm_year     float64 ...\n",
       "    dz                    (z_t) float32 ...\n",
       "    dzw                   (z_w) float32 ...\n",
       "    fwflux_factor         float64 ...\n",
       "    grav                  float64 ...\n",
       "    heat_to_PW            float64 ...\n",
       "    hflux_factor          float64 ...\n",
       "    latent_heat_fusion    float64 ...\n",
       "    latent_heat_vapor     float64 ...\n",
       "    mass_to_Sv            float64 ...\n",
       "    moc_components        (moc_comp) |S256 ...\n",
       "    momentum_factor       float64 ...\n",
       "    nsurface_t            float64 ...\n",
       "    nsurface_u            float64 ...\n",
       "    ocn_ref_salinity      float64 ...\n",
       "    omega                 float64 ...\n",
       "    ppt_to_salt           float64 ...\n",
       "    radius                float64 ...\n",
       "    rho_air               float64 ...\n",
       "    rho_fw                float64 ...\n",
       "    rho_sw                float64 ...\n",
       "    salinity_factor       float64 ...\n",
       "    salt_to_Svppt         float64 ...\n",
       "    salt_to_mmday         float64 ...\n",
       "    salt_to_ppt           float64 ...\n",
       "    sea_ice_salinity      float64 ...\n",
       "    sflux_factor          float64 ...\n",
       "    sound                 float64 ...\n",
       "    stefan_boltzmann      float64 ...\n",
       "    time_bound            (time, d2) float64 ...\n",
       "    transport_components  (transport_comp) |S256 ...\n",
       "    transport_regions     (transport_reg) |S256 ...\n",
       "    vonkar                float64 ...\n",
       "Attributes:\n",
       "    title:                     b.e11.B20TRC5CNBDRD.f09_g16.001\n",
       "    history:                   Sun Sep  1 04:58:24 2013: /glade/apps/opt/nco/...\n",
       "    Conventions:               CF-1.0; http://www.cgd.ucar.edu/cms/eaton/netc...\n",
       "    contents:                  Diagnostic and Prognostic Variables\n",
       "    source:                    CCSM POP2, the CCSM Ocean Component\n",
       "    revision:                  $Id: tavg.F90 41939 2012-11-14 16:37:23Z mlevy...\n",
       "    calendar:                  All years have exactly  365 days.\n",
       "    start_time:                This dataset was created on 2013-05-24 at 14:5...\n",
       "    cell_methods:              cell_methods = time: mean ==> the variable val...\n",
       "    nsteps_total:              750\n",
       "    tavg_sum:                  2592000.0\n",
       "    tavg_sum_qflux:            2592000.0\n",
       "    NCO:                       4.3.4\n",
       "    nco_openmp_thread_number:  1"
      ]
     },
     "execution_count": 62,
     "metadata": {},
     "output_type": "execute_result"
    }
   ],
   "source": [
    "dset1 = xr.open_dataset(paths[0], engine='netcdf4', decode_times=False)\n",
    "dset1"
   ]
  },
  {
   "cell_type": "code",
   "execution_count": 91,
   "metadata": {},
   "outputs": [],
   "source": [
    "chunks = {'d2': 2, 'lat_aux_grid': 395, 'moc_comp': 3, 'moc_z': 61, \n",
    "          'nlat': 384, 'nlon': 320, 'time': 1872, 'transport_comp': 5, \n",
    "          'transport_reg': 2, 'z_t': 60, 'z_t_150m': 15, 'z_w': 60, \n",
    "          'z_w_bot': 60, 'z_w_top': 60}"
   ]
  },
  {
   "cell_type": "code",
   "execution_count": 92,
   "metadata": {},
   "outputs": [
    {
     "name": "stdout",
     "output_type": "stream",
     "text": [
      "CPU times: user 1.5 s, sys: 80 ms, total: 1.58 s\n",
      "Wall time: 2.85 s\n"
     ]
    }
   ],
   "source": [
    "%time dset = xr.open_mfdataset(paths, engine='netcdf4', decode_times=False, chunks=chunks)"
   ]
  },
  {
   "cell_type": "code",
   "execution_count": 93,
   "metadata": {},
   "outputs": [
    {
     "data": {
      "text/plain": [
       "<xarray.Dataset>\n",
       "Dimensions:               (d2: 2, lat_aux_grid: 395, moc_comp: 3, moc_z: 61, nlat: 384, nlon: 320, time: 10764, transport_comp: 5, transport_reg: 2, z_t: 60, z_t_150m: 15, z_w: 60, z_w_bot: 60, z_w_top: 60)\n",
       "Coordinates:\n",
       "    TLAT                  (nlat, nlon) float64 -79.22 -79.22 ... 72.19 72.19\n",
       "    TLONG                 (nlat, nlon) float64 320.6 321.7 322.8 ... 319.4 319.8\n",
       "    ULAT                  (nlat, nlon) float64 -78.95 -78.95 ... 72.41 72.41\n",
       "    ULONG                 (nlat, nlon) float64 321.1 322.3 323.4 ... 319.6 320.0\n",
       "  * lat_aux_grid          (lat_aux_grid) float32 -79.48815 -78.952896 ... 90.0\n",
       "  * moc_z                 (moc_z) float32 0.0 1000.0 ... 525000.94 549999.06\n",
       "  * z_t                   (z_t) float32 500.0 1500.0 ... 512502.8 537500.0\n",
       "  * z_t_150m              (z_t_150m) float32 500.0 1500.0 ... 13500.0 14500.0\n",
       "  * z_w                   (z_w) float32 0.0 1000.0 2000.0 ... 500004.7 525000.94\n",
       "  * z_w_bot               (z_w_bot) float32 1000.0 2000.0 ... 549999.06\n",
       "  * z_w_top               (z_w_top) float32 0.0 1000.0 ... 500004.7 525000.94\n",
       "  * time                  (time) float64 6.753e+05 6.753e+05 ... 7.322e+05\n",
       "Dimensions without coordinates: d2, moc_comp, nlat, nlon, transport_comp, transport_reg\n",
       "Data variables:\n",
       "    ANGLE                 (time, nlat, nlon) float64 dask.array<shape=(10764, 384, 320), chunksize=(1872, 384, 320)>\n",
       "    ANGLET                (time, nlat, nlon) float64 dask.array<shape=(10764, 384, 320), chunksize=(1872, 384, 320)>\n",
       "    DXT                   (time, nlat, nlon) float64 dask.array<shape=(10764, 384, 320), chunksize=(1872, 384, 320)>\n",
       "    DXU                   (time, nlat, nlon) float64 dask.array<shape=(10764, 384, 320), chunksize=(1872, 384, 320)>\n",
       "    DYT                   (time, nlat, nlon) float64 dask.array<shape=(10764, 384, 320), chunksize=(1872, 384, 320)>\n",
       "    DYU                   (time, nlat, nlon) float64 dask.array<shape=(10764, 384, 320), chunksize=(1872, 384, 320)>\n",
       "    HT                    (time, nlat, nlon) float64 dask.array<shape=(10764, 384, 320), chunksize=(1872, 384, 320)>\n",
       "    HTE                   (time, nlat, nlon) float64 dask.array<shape=(10764, 384, 320), chunksize=(1872, 384, 320)>\n",
       "    HTN                   (time, nlat, nlon) float64 dask.array<shape=(10764, 384, 320), chunksize=(1872, 384, 320)>\n",
       "    HU                    (time, nlat, nlon) float64 dask.array<shape=(10764, 384, 320), chunksize=(1872, 384, 320)>\n",
       "    HUS                   (time, nlat, nlon) float64 dask.array<shape=(10764, 384, 320), chunksize=(1872, 384, 320)>\n",
       "    HUW                   (time, nlat, nlon) float64 dask.array<shape=(10764, 384, 320), chunksize=(1872, 384, 320)>\n",
       "    KMT                   (time, nlat, nlon) float64 dask.array<shape=(10764, 384, 320), chunksize=(1872, 384, 320)>\n",
       "    KMU                   (time, nlat, nlon) float64 dask.array<shape=(10764, 384, 320), chunksize=(1872, 384, 320)>\n",
       "    REGION_MASK           (time, nlat, nlon) float64 dask.array<shape=(10764, 384, 320), chunksize=(1872, 384, 320)>\n",
       "    T0_Kelvin             (time) float64 273.1 273.1 273.1 ... 273.1 273.1 273.1\n",
       "    TAREA                 (time, nlat, nlon) float64 dask.array<shape=(10764, 384, 320), chunksize=(1872, 384, 320)>\n",
       "    TAUX                  (time, nlat, nlon) float32 dask.array<shape=(10764, 384, 320), chunksize=(1872, 384, 320)>\n",
       "    UAREA                 (time, nlat, nlon) float64 dask.array<shape=(10764, 384, 320), chunksize=(1872, 384, 320)>\n",
       "    cp_air                (time) float64 1.005e+03 1.005e+03 ... 1.005e+03\n",
       "    cp_sw                 (time) float64 3.996e+07 3.996e+07 ... 3.996e+07\n",
       "    days_in_norm_year     (time) float64 365.0 365.0 365.0 ... 365.0 365.0 365.0\n",
       "    dz                    (time, z_t) float32 dask.array<shape=(10764, 60), chunksize=(1872, 60)>\n",
       "    dzw                   (time, z_w) float32 dask.array<shape=(10764, 60), chunksize=(1872, 60)>\n",
       "    fwflux_factor         (time) float64 0.0001 0.0001 0.0001 ... 0.0001 0.0001\n",
       "    grav                  (time) float64 980.6 980.6 980.6 ... 980.6 980.6 980.6\n",
       "    heat_to_PW            (time) float64 4.186e-15 4.186e-15 ... 4.186e-15\n",
       "    hflux_factor          (time) float64 2.439e-05 2.439e-05 ... 2.439e-05\n",
       "    latent_heat_fusion    (time) float64 3.337e+09 3.337e+09 ... 3.337e+09\n",
       "    latent_heat_vapor     (time) float64 2.501e+06 2.501e+06 ... 2.501e+06\n",
       "    mass_to_Sv            (time) float64 1e-12 1e-12 1e-12 ... 1e-12 1e-12 1e-12\n",
       "    moc_components        (time, moc_comp) |S256 dask.array<shape=(10764, 3), chunksize=(1872, 3)>\n",
       "    momentum_factor       (time) float64 10.0 10.0 10.0 10.0 ... 10.0 10.0 10.0\n",
       "    nsurface_t            (time) float64 8.621e+04 8.621e+04 ... 8.621e+04\n",
       "    nsurface_u            (time) float64 8.305e+04 8.305e+04 ... 8.305e+04\n",
       "    ocn_ref_salinity      (time) float64 34.7 34.7 34.7 34.7 ... 34.7 34.7 34.7\n",
       "    omega                 (time) float64 7.292e-05 7.292e-05 ... 7.292e-05\n",
       "    ppt_to_salt           (time) float64 0.001 0.001 0.001 ... 0.001 0.001 0.001\n",
       "    radius                (time) float64 6.371e+08 6.371e+08 ... 6.371e+08\n",
       "    rho_air               (time) float64 1.292 1.292 1.292 ... 1.292 1.292 1.292\n",
       "    rho_fw                (time) float64 1.0 1.0 1.0 1.0 1.0 ... 1.0 1.0 1.0 1.0\n",
       "    rho_sw                (time) float64 1.026 1.026 1.026 ... 1.026 1.026 1.026\n",
       "    salinity_factor       (time) float64 -0.00347 -0.00347 ... -0.00347 -0.00347\n",
       "    salt_to_Svppt         (time) float64 1e-09 1e-09 1e-09 ... 1e-09 1e-09 1e-09\n",
       "    salt_to_mmday         (time) float64 3.154e+05 3.154e+05 ... 3.154e+05\n",
       "    salt_to_ppt           (time) float64 1e+03 1e+03 1e+03 ... 1e+03 1e+03 1e+03\n",
       "    sea_ice_salinity      (time) float64 4.0 4.0 4.0 4.0 4.0 ... 4.0 4.0 4.0 4.0\n",
       "    sflux_factor          (time) float64 0.1 0.1 0.1 0.1 0.1 ... 0.1 0.1 0.1 0.1\n",
       "    sound                 (time) float64 1.5e+05 1.5e+05 ... 1.5e+05 1.5e+05\n",
       "    stefan_boltzmann      (time) float64 5.67e-08 5.67e-08 ... 5.67e-08 5.67e-08\n",
       "    time_bound            (time, d2) float64 dask.array<shape=(10764, 2), chunksize=(1872, 2)>\n",
       "    transport_components  (time, transport_comp) |S256 dask.array<shape=(10764, 5), chunksize=(1872, 5)>\n",
       "    transport_regions     (time, transport_reg) |S256 dask.array<shape=(10764, 2), chunksize=(1872, 2)>\n",
       "    vonkar                (time) float64 0.4 0.4 0.4 0.4 0.4 ... 0.4 0.4 0.4 0.4\n",
       "Attributes:\n",
       "    title:                     b.e11.B20TRC5CNBDRD.f09_g16.001\n",
       "    history:                   Sun Sep  1 04:58:24 2013: /glade/apps/opt/nco/...\n",
       "    Conventions:               CF-1.0; http://www.cgd.ucar.edu/cms/eaton/netc...\n",
       "    contents:                  Diagnostic and Prognostic Variables\n",
       "    source:                    CCSM POP2, the CCSM Ocean Component\n",
       "    revision:                  $Id: tavg.F90 41939 2012-11-14 16:37:23Z mlevy...\n",
       "    calendar:                  All years have exactly  365 days.\n",
       "    start_time:                This dataset was created on 2013-05-24 at 14:5...\n",
       "    cell_methods:              cell_methods = time: mean ==> the variable val...\n",
       "    nsteps_total:              750\n",
       "    tavg_sum:                  2592000.0\n",
       "    tavg_sum_qflux:            2592000.0\n",
       "    NCO:                       4.3.4\n",
       "    nco_openmp_thread_number:  1"
      ]
     },
     "execution_count": 93,
     "metadata": {},
     "output_type": "execute_result"
    }
   ],
   "source": [
    "dset"
   ]
  },
  {
   "cell_type": "code",
   "execution_count": 94,
   "metadata": {},
   "outputs": [
    {
     "data": {
      "text/plain": [
       "Frozen(SortedKeysDict({'nlat': 384, 'nlon': 320, 'time': 1872, 'z_t': 60, 'z_w': 60, 'lat_aux_grid': 395, 'moc_comp': 3, 'moc_z': 61, 'd2': 2, 'transport_comp': 5, 'transport_reg': 2, 'z_t_150m': 15, 'z_w_bot': 60, 'z_w_top': 60}))"
      ]
     },
     "execution_count": 94,
     "metadata": {},
     "output_type": "execute_result"
    }
   ],
   "source": [
    "dset1.dims"
   ]
  },
  {
   "cell_type": "code",
   "execution_count": 95,
   "metadata": {},
   "outputs": [
    {
     "data": {
      "text/plain": [
       "Frozen(SortedKeysDict({'nlat': 384, 'nlon': 320, 'lat_aux_grid': 395, 'moc_z': 61, 'z_t': 60, 'z_t_150m': 15, 'z_w': 60, 'z_w_bot': 60, 'z_w_top': 60, 'time': 10764, 'moc_comp': 3, 'd2': 2, 'transport_comp': 5, 'transport_reg': 2}))"
      ]
     },
     "execution_count": 95,
     "metadata": {},
     "output_type": "execute_result"
    }
   ],
   "source": [
    "dset.dims"
   ]
  },
  {
   "cell_type": "code",
   "execution_count": 96,
   "metadata": {},
   "outputs": [
    {
     "data": {
      "text/plain": [
       "Frozen(SortedKeysDict({'time': (1872, 900, 900, 1032, 1032, 1032, 900, 1032, 1032, 1032), 'nlat': (384,), 'nlon': (320,), 'z_t': (60,), 'z_w': (60,), 'moc_comp': (3,), 'd2': (2,), 'transport_comp': (5,), 'transport_reg': (2,)}))"
      ]
     },
     "execution_count": 96,
     "metadata": {},
     "output_type": "execute_result"
    }
   ],
   "source": [
    "dset.chunks"
   ]
  },
  {
   "cell_type": "code",
   "execution_count": 97,
   "metadata": {},
   "outputs": [
    {
     "name": "stdout",
     "output_type": "stream",
     "text": [
      "CPU times: user 3.73 s, sys: 156 ms, total: 3.88 s\n",
      "Wall time: 37.7 s\n"
     ]
    },
    {
     "data": {
      "text/plain": [
       "<xarray.Dataset>\n",
       "Dimensions:             ()\n",
       "Data variables:\n",
       "    ANGLE               float64 0.0004602\n",
       "    ANGLET              float64 6.531e-11\n",
       "    DXT                 float64 9.203e+06\n",
       "    DXU                 float64 9.203e+06\n",
       "    DYT                 float64 4.824e+06\n",
       "    DYU                 float64 4.824e+06\n",
       "    HT                  float64 2.446e+05\n",
       "    HTE                 float64 4.824e+06\n",
       "    HTN                 float64 9.203e+06\n",
       "    HU                  float64 2.307e+05\n",
       "    HUS                 float64 9.205e+06\n",
       "    HUW                 float64 4.824e+06\n",
       "    KMT                 float64 34.57\n",
       "    KMU                 float64 33.14\n",
       "    REGION_MASK         float64 2.299\n",
       "    T0_Kelvin           float64 273.2\n",
       "    TAREA               float64 4.109e+13\n",
       "    TAUX                float32 0.06820068\n",
       "    UAREA               float64 4.109e+13\n",
       "    cp_air              float64 1.005e+03\n",
       "    cp_sw               float64 3.996e+07\n",
       "    days_in_norm_year   float64 365.0\n",
       "    dz                  float32 9166.651\n",
       "    dzw                 float32 8958.333\n",
       "    fwflux_factor       float64 0.0001\n",
       "    grav                float64 980.6\n",
       "    heat_to_PW          float64 4.186e-15\n",
       "    hflux_factor        float64 2.439e-05\n",
       "    latent_heat_fusion  float64 3.337e+09\n",
       "    latent_heat_vapor   float64 2.501e+06\n",
       "    mass_to_Sv          float64 1e-12\n",
       "    momentum_factor     float64 10.0\n",
       "    nsurface_t          float64 8.621e+04\n",
       "    nsurface_u          float64 8.305e+04\n",
       "    ocn_ref_salinity    float64 34.7\n",
       "    omega               float64 7.292e-05\n",
       "    ppt_to_salt         float64 0.001\n",
       "    radius              float64 6.371e+08\n",
       "    rho_air             float64 1.292\n",
       "    rho_fw              float64 1.0\n",
       "    rho_sw              float64 1.026\n",
       "    salinity_factor     float64 -0.00347\n",
       "    salt_to_Svppt       float64 1e-09\n",
       "    salt_to_mmday       float64 3.154e+05\n",
       "    salt_to_ppt         float64 1e+03\n",
       "    sea_ice_salinity    float64 4.0\n",
       "    sflux_factor        float64 0.1\n",
       "    sound               float64 1.5e+05\n",
       "    stefan_boltzmann    float64 5.67e-08\n",
       "    time_bound          float64 7.216e+05\n",
       "    vonkar              float64 0.4"
      ]
     },
     "execution_count": 97,
     "metadata": {},
     "output_type": "execute_result"
    }
   ],
   "source": [
    "%%time \n",
    "dset.mean().compute()"
   ]
  },
  {
   "cell_type": "code",
   "execution_count": 98,
   "metadata": {},
   "outputs": [
    {
     "name": "stdout",
     "output_type": "stream",
     "text": [
      "CPU times: user 884 ms, sys: 464 ms, total: 1.35 s\n",
      "Wall time: 1.3 s\n"
     ]
    },
    {
     "data": {
      "text/plain": [
       "<xarray.Dataset>\n",
       "Dimensions:             ()\n",
       "Data variables:\n",
       "    ANGLE               float64 0.0004602\n",
       "    ANGLET              float64 6.531e-11\n",
       "    DXT                 float64 9.203e+06\n",
       "    DXU                 float64 9.203e+06\n",
       "    DYT                 float64 4.824e+06\n",
       "    DYU                 float64 4.824e+06\n",
       "    HT                  float64 2.446e+05\n",
       "    HTE                 float64 4.824e+06\n",
       "    HTN                 float64 9.203e+06\n",
       "    HU                  float64 2.307e+05\n",
       "    HUS                 float64 9.205e+06\n",
       "    HUW                 float64 4.824e+06\n",
       "    KMT                 float64 34.57\n",
       "    KMU                 float64 33.14\n",
       "    REGION_MASK         float64 2.299\n",
       "    T0_Kelvin           float64 273.1\n",
       "    TAREA               float64 4.109e+13\n",
       "    TAUX                float32 0.06236441\n",
       "    UAREA               float64 4.109e+13\n",
       "    cp_air              float64 1.005e+03\n",
       "    cp_sw               float64 3.996e+07\n",
       "    days_in_norm_year   float64 365.0\n",
       "    dz                  float32 9166.651\n",
       "    dzw                 float32 8958.333\n",
       "    fwflux_factor       float64 0.0001\n",
       "    grav                float64 980.6\n",
       "    heat_to_PW          float64 4.186e-15\n",
       "    hflux_factor        float64 2.439e-05\n",
       "    latent_heat_fusion  float64 3.337e+09\n",
       "    latent_heat_vapor   float64 2.501e+06\n",
       "    mass_to_Sv          float64 1e-12\n",
       "    momentum_factor     float64 10.0\n",
       "    nsurface_t          float64 8.621e+04\n",
       "    nsurface_u          float64 8.305e+04\n",
       "    ocn_ref_salinity    float64 34.7\n",
       "    omega               float64 7.292e-05\n",
       "    ppt_to_salt         float64 0.001\n",
       "    radius              float64 6.371e+08\n",
       "    rho_air             float64 1.292\n",
       "    rho_fw              float64 1.0\n",
       "    rho_sw              float64 1.026\n",
       "    salinity_factor     float64 -0.00347\n",
       "    salt_to_Svppt       float64 1e-09\n",
       "    salt_to_mmday       float64 3.154e+05\n",
       "    salt_to_ppt         float64 1e+03\n",
       "    sea_ice_salinity    float64 4.0\n",
       "    sflux_factor        float64 0.1\n",
       "    sound               float64 1.5e+05\n",
       "    stefan_boltzmann    float64 5.67e-08\n",
       "    time_bound          float64 7.037e+05\n",
       "    vonkar              float64 0.4"
      ]
     },
     "execution_count": 98,
     "metadata": {},
     "output_type": "execute_result"
    }
   ],
   "source": [
    "%%time \n",
    "dset1.mean()"
   ]
  },
  {
   "cell_type": "code",
   "execution_count": 99,
   "metadata": {},
   "outputs": [],
   "source": [
    "output_1 = \"/glade/scratch/abanihi/data/output1.zarr\"\n",
    "output_2 = \"/glade/scratch/abanihi/data/output2.zarr\""
   ]
  },
  {
   "cell_type": "code",
   "execution_count": 101,
   "metadata": {},
   "outputs": [
    {
     "name": "stdout",
     "output_type": "stream",
     "text": [
      "CPU times: user 2.32 s, sys: 692 ms, total: 3.01 s\n",
      "Wall time: 2.21 s\n"
     ]
    },
    {
     "data": {
      "text/plain": [
       "<xarray.backends.zarr.ZarrStore at 0x2aab01d88c88>"
      ]
     },
     "execution_count": 101,
     "metadata": {},
     "output_type": "execute_result"
    }
   ],
   "source": [
    "%time dset1.to_zarr(output_1, mode='w')"
   ]
  },
  {
   "cell_type": "code",
   "execution_count": 105,
   "metadata": {},
   "outputs": [
    {
     "name": "stdout",
     "output_type": "stream",
     "text": [
      "CPU times: user 26.8 s, sys: 432 ms, total: 27.2 s\n",
      "Wall time: 50.8 s\n"
     ]
    },
    {
     "data": {
      "text/plain": [
       "<xarray.backends.zarr.ZarrStore at 0x2aaafc963080>"
      ]
     },
     "execution_count": 105,
     "metadata": {},
     "output_type": "execute_result"
    }
   ],
   "source": [
    "%time dset.chunk({'time': 100}).to_zarr(output_2, mode='w')"
   ]
  },
  {
   "cell_type": "code",
   "execution_count": 106,
   "metadata": {},
   "outputs": [],
   "source": [
    "import zarr "
   ]
  },
  {
   "cell_type": "code",
   "execution_count": 107,
   "metadata": {},
   "outputs": [],
   "source": [
    "ds = zarr.open(output_2)"
   ]
  },
  {
   "cell_type": "code",
   "execution_count": 108,
   "metadata": {},
   "outputs": [
    {
     "data": {
      "text/plain": [
       "<zarr.hierarchy.Group '/'>"
      ]
     },
     "execution_count": 108,
     "metadata": {},
     "output_type": "execute_result"
    }
   ],
   "source": [
    "ds"
   ]
  },
  {
   "cell_type": "code",
   "execution_count": null,
   "metadata": {},
   "outputs": [],
   "source": []
  }
 ],
 "metadata": {
  "kernelspec": {
   "display_name": "Python [conda env:pangeo]",
   "language": "python",
   "name": "conda-env-pangeo-py"
  },
  "language_info": {
   "codemirror_mode": {
    "name": "ipython",
    "version": 3
   },
   "file_extension": ".py",
   "mimetype": "text/x-python",
   "name": "python",
   "nbconvert_exporter": "python",
   "pygments_lexer": "ipython3",
   "version": "3.6.6"
  }
 },
 "nbformat": 4,
 "nbformat_minor": 2
}
