{
 "cells": [
  {
   "cell_type": "code",
   "execution_count": 87,
   "metadata": {},
   "outputs": [
    {
     "data": {
      "text/html": [
       "<div>\n",
       "<style scoped>\n",
       "    .dataframe tbody tr th:only-of-type {\n",
       "        vertical-align: middle;\n",
       "    }\n",
       "\n",
       "    .dataframe tbody tr th {\n",
       "        vertical-align: top;\n",
       "    }\n",
       "\n",
       "    .dataframe thead th {\n",
       "        text-align: right;\n",
       "    }\n",
       "</style>\n",
       "<table border=\"1\" class=\"dataframe\">\n",
       "  <thead>\n",
       "    <tr style=\"text-align: right;\">\n",
       "      <th></th>\n",
       "      <th>nums</th>\n",
       "    </tr>\n",
       "    <tr>\n",
       "      <th>dates</th>\n",
       "      <th></th>\n",
       "    </tr>\n",
       "  </thead>\n",
       "  <tbody>\n",
       "    <tr>\n",
       "      <th>2018-07-01 00:00:00</th>\n",
       "      <td>00,</td>\n",
       "    </tr>\n",
       "    <tr>\n",
       "      <th>2018-07-01 01:00:00</th>\n",
       "      <td>01,</td>\n",
       "    </tr>\n",
       "    <tr>\n",
       "      <th>2018-07-01 02:00:00</th>\n",
       "      <td>02,</td>\n",
       "    </tr>\n",
       "    <tr>\n",
       "      <th>2018-07-01 03:00:00</th>\n",
       "      <td>03,</td>\n",
       "    </tr>\n",
       "    <tr>\n",
       "      <th>2018-07-01 04:00:00</th>\n",
       "      <td>04,</td>\n",
       "    </tr>\n",
       "    <tr>\n",
       "      <th>2018-07-01 05:00:00</th>\n",
       "      <td>05,</td>\n",
       "    </tr>\n",
       "    <tr>\n",
       "      <th>2018-07-01 06:00:00</th>\n",
       "      <td>06,</td>\n",
       "    </tr>\n",
       "    <tr>\n",
       "      <th>2018-07-01 07:00:00</th>\n",
       "      <td>07,</td>\n",
       "    </tr>\n",
       "    <tr>\n",
       "      <th>2018-07-01 08:00:00</th>\n",
       "      <td>08,</td>\n",
       "    </tr>\n",
       "    <tr>\n",
       "      <th>2018-07-01 09:00:00</th>\n",
       "      <td>09,</td>\n",
       "    </tr>\n",
       "    <tr>\n",
       "      <th>2018-07-01 10:00:00</th>\n",
       "      <td>10,</td>\n",
       "    </tr>\n",
       "    <tr>\n",
       "      <th>2018-07-01 11:00:00</th>\n",
       "      <td>11,</td>\n",
       "    </tr>\n",
       "    <tr>\n",
       "      <th>2018-07-01 12:00:00</th>\n",
       "      <td>12,</td>\n",
       "    </tr>\n",
       "    <tr>\n",
       "      <th>2018-07-01 13:00:00</th>\n",
       "      <td>13,</td>\n",
       "    </tr>\n",
       "    <tr>\n",
       "      <th>2018-07-01 14:00:00</th>\n",
       "      <td>14,</td>\n",
       "    </tr>\n",
       "    <tr>\n",
       "      <th>2018-07-01 15:00:00</th>\n",
       "      <td>15,</td>\n",
       "    </tr>\n",
       "    <tr>\n",
       "      <th>2018-07-01 16:00:00</th>\n",
       "      <td>16,</td>\n",
       "    </tr>\n",
       "    <tr>\n",
       "      <th>2018-07-01 17:00:00</th>\n",
       "      <td>17,</td>\n",
       "    </tr>\n",
       "    <tr>\n",
       "      <th>2018-07-01 18:00:00</th>\n",
       "      <td>18,</td>\n",
       "    </tr>\n",
       "    <tr>\n",
       "      <th>2018-07-01 19:00:00</th>\n",
       "      <td>19,</td>\n",
       "    </tr>\n",
       "    <tr>\n",
       "      <th>2018-07-01 20:00:00</th>\n",
       "      <td>20,</td>\n",
       "    </tr>\n",
       "    <tr>\n",
       "      <th>2018-07-01 21:00:00</th>\n",
       "      <td>21,</td>\n",
       "    </tr>\n",
       "    <tr>\n",
       "      <th>2018-07-01 22:00:00</th>\n",
       "      <td>22,</td>\n",
       "    </tr>\n",
       "    <tr>\n",
       "      <th>2018-07-01 23:00:00</th>\n",
       "      <td>23,</td>\n",
       "    </tr>\n",
       "    <tr>\n",
       "      <th>2018-07-02 00:00:00</th>\n",
       "      <td>24,</td>\n",
       "    </tr>\n",
       "    <tr>\n",
       "      <th>2018-07-02 01:00:00</th>\n",
       "      <td>25,</td>\n",
       "    </tr>\n",
       "    <tr>\n",
       "      <th>2018-07-02 02:00:00</th>\n",
       "      <td>26,</td>\n",
       "    </tr>\n",
       "    <tr>\n",
       "      <th>2018-07-02 03:00:00</th>\n",
       "      <td>27,</td>\n",
       "    </tr>\n",
       "    <tr>\n",
       "      <th>2018-07-02 04:00:00</th>\n",
       "      <td>28,</td>\n",
       "    </tr>\n",
       "    <tr>\n",
       "      <th>2018-07-02 05:00:00</th>\n",
       "      <td>29,</td>\n",
       "    </tr>\n",
       "  </tbody>\n",
       "</table>\n",
       "</div>"
      ],
      "text/plain": [
       "                    nums\n",
       "dates                   \n",
       "2018-07-01 00:00:00  00,\n",
       "2018-07-01 01:00:00  01,\n",
       "2018-07-01 02:00:00  02,\n",
       "2018-07-01 03:00:00  03,\n",
       "2018-07-01 04:00:00  04,\n",
       "2018-07-01 05:00:00  05,\n",
       "2018-07-01 06:00:00  06,\n",
       "2018-07-01 07:00:00  07,\n",
       "2018-07-01 08:00:00  08,\n",
       "2018-07-01 09:00:00  09,\n",
       "2018-07-01 10:00:00  10,\n",
       "2018-07-01 11:00:00  11,\n",
       "2018-07-01 12:00:00  12,\n",
       "2018-07-01 13:00:00  13,\n",
       "2018-07-01 14:00:00  14,\n",
       "2018-07-01 15:00:00  15,\n",
       "2018-07-01 16:00:00  16,\n",
       "2018-07-01 17:00:00  17,\n",
       "2018-07-01 18:00:00  18,\n",
       "2018-07-01 19:00:00  19,\n",
       "2018-07-01 20:00:00  20,\n",
       "2018-07-01 21:00:00  21,\n",
       "2018-07-01 22:00:00  22,\n",
       "2018-07-01 23:00:00  23,\n",
       "2018-07-02 00:00:00  24,\n",
       "2018-07-02 01:00:00  25,\n",
       "2018-07-02 02:00:00  26,\n",
       "2018-07-02 03:00:00  27,\n",
       "2018-07-02 04:00:00  28,\n",
       "2018-07-02 05:00:00  29,"
      ]
     },
     "execution_count": 87,
     "metadata": {},
     "output_type": "execute_result"
    }
   ],
   "source": [
    "import pandas as pd\n",
    "nums = [f'{i:02},' for i in range(0,30)]\n",
    "dates = pd.date_range('2018-07-01', periods=30, freq='1h')\n",
    "df = pd.DataFrame({'dates':dates, 'nums': nums}).set_index('dates')\n",
    "df"
   ]
  },
  {
   "cell_type": "code",
   "execution_count": 88,
   "metadata": {},
   "outputs": [],
   "source": [
    "import dask.dataframe as dd"
   ]
  },
  {
   "cell_type": "code",
   "execution_count": 89,
   "metadata": {},
   "outputs": [
    {
     "data": {
      "text/plain": [
       "30"
      ]
     },
     "execution_count": 89,
     "metadata": {},
     "output_type": "execute_result"
    }
   ],
   "source": [
    "len(df)"
   ]
  },
  {
   "cell_type": "code",
   "execution_count": 90,
   "metadata": {},
   "outputs": [],
   "source": [
    "ddf = dd.from_pandas(df, npartitions=1).repartition(freq='5h')"
   ]
  },
  {
   "cell_type": "code",
   "execution_count": 91,
   "metadata": {},
   "outputs": [
    {
     "name": "stderr",
     "output_type": "stream",
     "text": [
      "/Users/abanihi/opt/miniconda3/envs/pangeo/lib/python3.6/site-packages/dask/dataframe/core.py:4355: UserWarning: Insufficient elements for `head`. 5 elements requested, only 3 elements available. Try passing larger `npartitions` to `head`.\n",
      "  warnings.warn(msg.format(n, len(r)))\n"
     ]
    },
    {
     "data": {
      "text/html": [
       "<div>\n",
       "<style scoped>\n",
       "    .dataframe tbody tr th:only-of-type {\n",
       "        vertical-align: middle;\n",
       "    }\n",
       "\n",
       "    .dataframe tbody tr th {\n",
       "        vertical-align: top;\n",
       "    }\n",
       "\n",
       "    .dataframe thead th {\n",
       "        text-align: right;\n",
       "    }\n",
       "</style>\n",
       "<table border=\"1\" class=\"dataframe\">\n",
       "  <thead>\n",
       "    <tr style=\"text-align: right;\">\n",
       "      <th></th>\n",
       "      <th>nums</th>\n",
       "    </tr>\n",
       "    <tr>\n",
       "      <th>dates</th>\n",
       "      <th></th>\n",
       "    </tr>\n",
       "  </thead>\n",
       "  <tbody>\n",
       "    <tr>\n",
       "      <th>2018-07-01 00:00:00</th>\n",
       "      <td>00,</td>\n",
       "    </tr>\n",
       "    <tr>\n",
       "      <th>2018-07-01 01:00:00</th>\n",
       "      <td>01,</td>\n",
       "    </tr>\n",
       "    <tr>\n",
       "      <th>2018-07-01 02:00:00</th>\n",
       "      <td>02,</td>\n",
       "    </tr>\n",
       "  </tbody>\n",
       "</table>\n",
       "</div>"
      ],
      "text/plain": [
       "                    nums\n",
       "dates                   \n",
       "2018-07-01 00:00:00  00,\n",
       "2018-07-01 01:00:00  01,\n",
       "2018-07-01 02:00:00  02,"
      ]
     },
     "execution_count": 91,
     "metadata": {},
     "output_type": "execute_result"
    }
   ],
   "source": [
    "ddf.head()"
   ]
  },
  {
   "cell_type": "code",
   "execution_count": 92,
   "metadata": {},
   "outputs": [
    {
     "data": {
      "text/plain": [
       "7"
      ]
     },
     "execution_count": 92,
     "metadata": {},
     "output_type": "execute_result"
    }
   ],
   "source": [
    "ddf.npartitions"
   ]
  },
  {
   "cell_type": "code",
   "execution_count": 93,
   "metadata": {},
   "outputs": [
    {
     "name": "stdout",
     "output_type": "stream",
     "text": [
      "<class 'pandas.core.frame.DataFrame'>\n",
      "DatetimeIndex: 30 entries, 2018-07-01 00:00:00 to 2018-07-02 05:00:00\n",
      "Data columns (total 1 columns):\n",
      "nums    30 non-null object\n",
      "dtypes: object(1)\n",
      "memory usage: 480.0+ bytes\n"
     ]
    }
   ],
   "source": [
    "df.info()"
   ]
  },
  {
   "cell_type": "code",
   "execution_count": 94,
   "metadata": {},
   "outputs": [
    {
     "name": "stdout",
     "output_type": "stream",
     "text": [
      "                    nums\n",
      "dates                   \n",
      "2018-07-01 00:00:00  00,\n",
      "2018-07-01 01:00:00  01,\n",
      "2018-07-01 02:00:00  02,\n",
      "                    nums\n",
      "dates                   \n",
      "2018-07-01 03:00:00  03,\n",
      "2018-07-01 04:00:00  04,\n",
      "2018-07-01 05:00:00  05,\n",
      "2018-07-01 06:00:00  06,\n",
      "2018-07-01 07:00:00  07,\n",
      "                    nums\n",
      "dates                   \n",
      "2018-07-01 08:00:00  08,\n",
      "2018-07-01 09:00:00  09,\n",
      "2018-07-01 10:00:00  10,\n",
      "2018-07-01 11:00:00  11,\n",
      "2018-07-01 12:00:00  12,\n",
      "                    nums\n",
      "dates                   \n",
      "2018-07-01 13:00:00  13,\n",
      "2018-07-01 14:00:00  14,\n",
      "2018-07-01 15:00:00  15,\n",
      "2018-07-01 16:00:00  16,\n",
      "2018-07-01 17:00:00  17,\n",
      "                    nums\n",
      "dates                   \n",
      "2018-07-01 18:00:00  18,\n",
      "2018-07-01 19:00:00  19,\n",
      "2018-07-01 20:00:00  20,\n",
      "2018-07-01 21:00:00  21,\n",
      "2018-07-01 22:00:00  22,\n",
      "                    nums\n",
      "dates                   \n",
      "2018-07-01 23:00:00  23,\n",
      "2018-07-02 00:00:00  24,\n",
      "2018-07-02 01:00:00  25,\n",
      "2018-07-02 02:00:00  26,\n",
      "2018-07-02 03:00:00  27,\n",
      "                    nums\n",
      "dates                   \n",
      "2018-07-02 04:00:00  28,\n",
      "2018-07-02 05:00:00  29,\n"
     ]
    }
   ],
   "source": [
    "for i in range(ddf.npartitions):\n",
    "    print(ddf.get_partition(i).compute())"
   ]
  },
  {
   "cell_type": "code",
   "execution_count": 8,
   "metadata": {},
   "outputs": [
    {
     "data": {
      "text/plain": [
       "Dask Index Structure:\n",
       "npartitions=2\n",
       "2018-07-01    datetime64[ns]\n",
       "2018-07-02               ...\n",
       "2018-07-03               ...\n",
       "Name: dates, dtype: datetime64[ns]\n",
       "Dask Name: repartition-merge, 7 tasks"
      ]
     },
     "execution_count": 8,
     "metadata": {},
     "output_type": "execute_result"
    }
   ],
   "source": [
    "ddf.index"
   ]
  },
  {
   "cell_type": "code",
   "execution_count": 16,
   "metadata": {},
   "outputs": [
    {
     "data": {
      "text/plain": [
       "\u001b[0;31mSignature:\u001b[0m \u001b[0mddf\u001b[0m\u001b[0;34m.\u001b[0m\u001b[0mrepartition\u001b[0m\u001b[0;34m(\u001b[0m\u001b[0mdivisions\u001b[0m\u001b[0;34m=\u001b[0m\u001b[0;32mNone\u001b[0m\u001b[0;34m,\u001b[0m \u001b[0mnpartitions\u001b[0m\u001b[0;34m=\u001b[0m\u001b[0;32mNone\u001b[0m\u001b[0;34m,\u001b[0m \u001b[0mfreq\u001b[0m\u001b[0;34m=\u001b[0m\u001b[0;32mNone\u001b[0m\u001b[0;34m,\u001b[0m \u001b[0mforce\u001b[0m\u001b[0;34m=\u001b[0m\u001b[0;32mFalse\u001b[0m\u001b[0;34m)\u001b[0m\u001b[0;34m\u001b[0m\u001b[0m\n",
       "\u001b[0;31mDocstring:\u001b[0m\n",
       "Repartition dataframe along new divisions\n",
       "\n",
       "Parameters\n",
       "----------\n",
       "divisions : list, optional\n",
       "    List of partitions to be used. If specified npartitions will be\n",
       "    ignored.\n",
       "npartitions : int, optional\n",
       "    Number of partitions of output. Only used if divisions isn't\n",
       "    specified.\n",
       "freq : str, pd.Timedelta\n",
       "    A period on which to partition timeseries data like ``'7D'`` or\n",
       "    ``'12h'`` or ``pd.Timedelta(hours=12)``.  Assumes a datetime index.\n",
       "force : bool, default False\n",
       "    Allows the expansion of the existing divisions.\n",
       "    If False then the new divisions lower and upper bounds must be\n",
       "    the same as the old divisions.\n",
       "\n",
       "Examples\n",
       "--------\n",
       ">>> df = df.repartition(npartitions=10)  # doctest: +SKIP\n",
       ">>> df = df.repartition(divisions=[0, 5, 10, 20])  # doctest: +SKIP\n",
       ">>> df = df.repartition(freq='7d')  # doctest: +SKIP\n",
       "\u001b[0;31mFile:\u001b[0m      ~/opt/miniconda3/envs/pangeo/lib/python3.6/site-packages/dask/dataframe/core.py\n",
       "\u001b[0;31mType:\u001b[0m      method\n"
      ]
     },
     "metadata": {},
     "output_type": "display_data"
    }
   ],
   "source": [
    "ddf.repartition?"
   ]
  },
  {
   "cell_type": "code",
   "execution_count": 18,
   "metadata": {},
   "outputs": [
    {
     "data": {
      "text/plain": [
       "Timestamp('2018-07-01 00:00:00', freq='D')"
      ]
     },
     "execution_count": 18,
     "metadata": {},
     "output_type": "execute_result"
    }
   ],
   "source": [
    "ddf.divisions[0]"
   ]
  },
  {
   "cell_type": "code",
   "execution_count": 19,
   "metadata": {},
   "outputs": [
    {
     "data": {
      "text/plain": [
       "Timestamp('2018-07-05 00:00:00', freq='D')"
      ]
     },
     "execution_count": 19,
     "metadata": {},
     "output_type": "execute_result"
    }
   ],
   "source": [
    "ddf.divisions[-1]"
   ]
  },
  {
   "cell_type": "code",
   "execution_count": 23,
   "metadata": {},
   "outputs": [
    {
     "data": {
      "text/plain": [
       "[Timestamp('2018-07-01 00:00:00', freq='D'),\n",
       " Timestamp('2018-07-02 00:00:00', freq='D'),\n",
       " Timestamp('2018-07-03 00:00:00', freq='D'),\n",
       " Timestamp('2018-07-04 00:00:00', freq='D'),\n",
       " Timestamp('2018-07-05 00:00:00', freq='D')]"
      ]
     },
     "execution_count": 23,
     "metadata": {},
     "output_type": "execute_result"
    }
   ],
   "source": [
    "divisions = pd.DatetimeIndex(start=ddf.divisions[0], end=ddf.divisions[-1], freq='1d').tolist()\n",
    "divisions"
   ]
  },
  {
   "cell_type": "code",
   "execution_count": 24,
   "metadata": {},
   "outputs": [
    {
     "data": {
      "text/plain": [
       "Timestamp('2018-07-05 00:00:00', freq='D')"
      ]
     },
     "execution_count": 24,
     "metadata": {},
     "output_type": "execute_result"
    }
   ],
   "source": [
    "divisions[-1]"
   ]
  },
  {
   "cell_type": "code",
   "execution_count": 25,
   "metadata": {},
   "outputs": [
    {
     "data": {
      "text/plain": [
       "Timestamp('2018-07-05 00:00:00', freq='D')"
      ]
     },
     "execution_count": 25,
     "metadata": {},
     "output_type": "execute_result"
    }
   ],
   "source": [
    "ddf.divisions[-1]"
   ]
  },
  {
   "cell_type": "code",
   "execution_count": 39,
   "metadata": {},
   "outputs": [],
   "source": [
    "start = '2000-01-01'\n",
    "end = '2000-04-15'\n",
    "freq = '1D'"
   ]
  },
  {
   "cell_type": "code",
   "execution_count": 72,
   "metadata": {},
   "outputs": [],
   "source": [
    "ind = pd.DatetimeIndex(start=start, end=end, freq='1D')"
   ]
  },
  {
   "cell_type": "code",
   "execution_count": 73,
   "metadata": {},
   "outputs": [
    {
     "data": {
      "text/plain": [
       "DatetimeIndex(['2000-01-01', '2000-01-02', '2000-01-03', '2000-01-04',\n",
       "               '2000-01-05', '2000-01-06', '2000-01-07', '2000-01-08',\n",
       "               '2000-01-09', '2000-01-10',\n",
       "               ...\n",
       "               '2000-04-06', '2000-04-07', '2000-04-08', '2000-04-09',\n",
       "               '2000-04-10', '2000-04-11', '2000-04-12', '2000-04-13',\n",
       "               '2000-04-14', '2000-04-15'],\n",
       "              dtype='datetime64[ns]', length=106, freq='D')"
      ]
     },
     "execution_count": 73,
     "metadata": {},
     "output_type": "execute_result"
    }
   ],
   "source": [
    "ind"
   ]
  },
  {
   "cell_type": "code",
   "execution_count": 74,
   "metadata": {},
   "outputs": [],
   "source": [
    "import numpy as np\n",
    "df = pd.DataFrame({'x': np.arange(len(ind))}, index=ind)"
   ]
  },
  {
   "cell_type": "code",
   "execution_count": 75,
   "metadata": {},
   "outputs": [
    {
     "data": {
      "text/html": [
       "<div>\n",
       "<style scoped>\n",
       "    .dataframe tbody tr th:only-of-type {\n",
       "        vertical-align: middle;\n",
       "    }\n",
       "\n",
       "    .dataframe tbody tr th {\n",
       "        vertical-align: top;\n",
       "    }\n",
       "\n",
       "    .dataframe thead th {\n",
       "        text-align: right;\n",
       "    }\n",
       "</style>\n",
       "<table border=\"1\" class=\"dataframe\">\n",
       "  <thead>\n",
       "    <tr style=\"text-align: right;\">\n",
       "      <th></th>\n",
       "      <th>x</th>\n",
       "    </tr>\n",
       "  </thead>\n",
       "  <tbody>\n",
       "    <tr>\n",
       "      <th>2000-01-01</th>\n",
       "      <td>0</td>\n",
       "    </tr>\n",
       "    <tr>\n",
       "      <th>2000-01-02</th>\n",
       "      <td>1</td>\n",
       "    </tr>\n",
       "    <tr>\n",
       "      <th>2000-01-03</th>\n",
       "      <td>2</td>\n",
       "    </tr>\n",
       "    <tr>\n",
       "      <th>2000-01-04</th>\n",
       "      <td>3</td>\n",
       "    </tr>\n",
       "    <tr>\n",
       "      <th>2000-01-05</th>\n",
       "      <td>4</td>\n",
       "    </tr>\n",
       "    <tr>\n",
       "      <th>2000-01-06</th>\n",
       "      <td>5</td>\n",
       "    </tr>\n",
       "    <tr>\n",
       "      <th>2000-01-07</th>\n",
       "      <td>6</td>\n",
       "    </tr>\n",
       "    <tr>\n",
       "      <th>2000-01-08</th>\n",
       "      <td>7</td>\n",
       "    </tr>\n",
       "    <tr>\n",
       "      <th>2000-01-09</th>\n",
       "      <td>8</td>\n",
       "    </tr>\n",
       "    <tr>\n",
       "      <th>2000-01-10</th>\n",
       "      <td>9</td>\n",
       "    </tr>\n",
       "    <tr>\n",
       "      <th>2000-01-11</th>\n",
       "      <td>10</td>\n",
       "    </tr>\n",
       "    <tr>\n",
       "      <th>2000-01-12</th>\n",
       "      <td>11</td>\n",
       "    </tr>\n",
       "    <tr>\n",
       "      <th>2000-01-13</th>\n",
       "      <td>12</td>\n",
       "    </tr>\n",
       "    <tr>\n",
       "      <th>2000-01-14</th>\n",
       "      <td>13</td>\n",
       "    </tr>\n",
       "    <tr>\n",
       "      <th>2000-01-15</th>\n",
       "      <td>14</td>\n",
       "    </tr>\n",
       "    <tr>\n",
       "      <th>2000-01-16</th>\n",
       "      <td>15</td>\n",
       "    </tr>\n",
       "    <tr>\n",
       "      <th>2000-01-17</th>\n",
       "      <td>16</td>\n",
       "    </tr>\n",
       "    <tr>\n",
       "      <th>2000-01-18</th>\n",
       "      <td>17</td>\n",
       "    </tr>\n",
       "    <tr>\n",
       "      <th>2000-01-19</th>\n",
       "      <td>18</td>\n",
       "    </tr>\n",
       "    <tr>\n",
       "      <th>2000-01-20</th>\n",
       "      <td>19</td>\n",
       "    </tr>\n",
       "    <tr>\n",
       "      <th>2000-01-21</th>\n",
       "      <td>20</td>\n",
       "    </tr>\n",
       "    <tr>\n",
       "      <th>2000-01-22</th>\n",
       "      <td>21</td>\n",
       "    </tr>\n",
       "    <tr>\n",
       "      <th>2000-01-23</th>\n",
       "      <td>22</td>\n",
       "    </tr>\n",
       "    <tr>\n",
       "      <th>2000-01-24</th>\n",
       "      <td>23</td>\n",
       "    </tr>\n",
       "    <tr>\n",
       "      <th>2000-01-25</th>\n",
       "      <td>24</td>\n",
       "    </tr>\n",
       "    <tr>\n",
       "      <th>2000-01-26</th>\n",
       "      <td>25</td>\n",
       "    </tr>\n",
       "    <tr>\n",
       "      <th>2000-01-27</th>\n",
       "      <td>26</td>\n",
       "    </tr>\n",
       "    <tr>\n",
       "      <th>2000-01-28</th>\n",
       "      <td>27</td>\n",
       "    </tr>\n",
       "    <tr>\n",
       "      <th>2000-01-29</th>\n",
       "      <td>28</td>\n",
       "    </tr>\n",
       "    <tr>\n",
       "      <th>2000-01-30</th>\n",
       "      <td>29</td>\n",
       "    </tr>\n",
       "    <tr>\n",
       "      <th>...</th>\n",
       "      <td>...</td>\n",
       "    </tr>\n",
       "    <tr>\n",
       "      <th>2000-03-17</th>\n",
       "      <td>76</td>\n",
       "    </tr>\n",
       "    <tr>\n",
       "      <th>2000-03-18</th>\n",
       "      <td>77</td>\n",
       "    </tr>\n",
       "    <tr>\n",
       "      <th>2000-03-19</th>\n",
       "      <td>78</td>\n",
       "    </tr>\n",
       "    <tr>\n",
       "      <th>2000-03-20</th>\n",
       "      <td>79</td>\n",
       "    </tr>\n",
       "    <tr>\n",
       "      <th>2000-03-21</th>\n",
       "      <td>80</td>\n",
       "    </tr>\n",
       "    <tr>\n",
       "      <th>2000-03-22</th>\n",
       "      <td>81</td>\n",
       "    </tr>\n",
       "    <tr>\n",
       "      <th>2000-03-23</th>\n",
       "      <td>82</td>\n",
       "    </tr>\n",
       "    <tr>\n",
       "      <th>2000-03-24</th>\n",
       "      <td>83</td>\n",
       "    </tr>\n",
       "    <tr>\n",
       "      <th>2000-03-25</th>\n",
       "      <td>84</td>\n",
       "    </tr>\n",
       "    <tr>\n",
       "      <th>2000-03-26</th>\n",
       "      <td>85</td>\n",
       "    </tr>\n",
       "    <tr>\n",
       "      <th>2000-03-27</th>\n",
       "      <td>86</td>\n",
       "    </tr>\n",
       "    <tr>\n",
       "      <th>2000-03-28</th>\n",
       "      <td>87</td>\n",
       "    </tr>\n",
       "    <tr>\n",
       "      <th>2000-03-29</th>\n",
       "      <td>88</td>\n",
       "    </tr>\n",
       "    <tr>\n",
       "      <th>2000-03-30</th>\n",
       "      <td>89</td>\n",
       "    </tr>\n",
       "    <tr>\n",
       "      <th>2000-03-31</th>\n",
       "      <td>90</td>\n",
       "    </tr>\n",
       "    <tr>\n",
       "      <th>2000-04-01</th>\n",
       "      <td>91</td>\n",
       "    </tr>\n",
       "    <tr>\n",
       "      <th>2000-04-02</th>\n",
       "      <td>92</td>\n",
       "    </tr>\n",
       "    <tr>\n",
       "      <th>2000-04-03</th>\n",
       "      <td>93</td>\n",
       "    </tr>\n",
       "    <tr>\n",
       "      <th>2000-04-04</th>\n",
       "      <td>94</td>\n",
       "    </tr>\n",
       "    <tr>\n",
       "      <th>2000-04-05</th>\n",
       "      <td>95</td>\n",
       "    </tr>\n",
       "    <tr>\n",
       "      <th>2000-04-06</th>\n",
       "      <td>96</td>\n",
       "    </tr>\n",
       "    <tr>\n",
       "      <th>2000-04-07</th>\n",
       "      <td>97</td>\n",
       "    </tr>\n",
       "    <tr>\n",
       "      <th>2000-04-08</th>\n",
       "      <td>98</td>\n",
       "    </tr>\n",
       "    <tr>\n",
       "      <th>2000-04-09</th>\n",
       "      <td>99</td>\n",
       "    </tr>\n",
       "    <tr>\n",
       "      <th>2000-04-10</th>\n",
       "      <td>100</td>\n",
       "    </tr>\n",
       "    <tr>\n",
       "      <th>2000-04-11</th>\n",
       "      <td>101</td>\n",
       "    </tr>\n",
       "    <tr>\n",
       "      <th>2000-04-12</th>\n",
       "      <td>102</td>\n",
       "    </tr>\n",
       "    <tr>\n",
       "      <th>2000-04-13</th>\n",
       "      <td>103</td>\n",
       "    </tr>\n",
       "    <tr>\n",
       "      <th>2000-04-14</th>\n",
       "      <td>104</td>\n",
       "    </tr>\n",
       "    <tr>\n",
       "      <th>2000-04-15</th>\n",
       "      <td>105</td>\n",
       "    </tr>\n",
       "  </tbody>\n",
       "</table>\n",
       "<p>106 rows × 1 columns</p>\n",
       "</div>"
      ],
      "text/plain": [
       "              x\n",
       "2000-01-01    0\n",
       "2000-01-02    1\n",
       "2000-01-03    2\n",
       "2000-01-04    3\n",
       "2000-01-05    4\n",
       "2000-01-06    5\n",
       "2000-01-07    6\n",
       "2000-01-08    7\n",
       "2000-01-09    8\n",
       "2000-01-10    9\n",
       "2000-01-11   10\n",
       "2000-01-12   11\n",
       "2000-01-13   12\n",
       "2000-01-14   13\n",
       "2000-01-15   14\n",
       "2000-01-16   15\n",
       "2000-01-17   16\n",
       "2000-01-18   17\n",
       "2000-01-19   18\n",
       "2000-01-20   19\n",
       "2000-01-21   20\n",
       "2000-01-22   21\n",
       "2000-01-23   22\n",
       "2000-01-24   23\n",
       "2000-01-25   24\n",
       "2000-01-26   25\n",
       "2000-01-27   26\n",
       "2000-01-28   27\n",
       "2000-01-29   28\n",
       "2000-01-30   29\n",
       "...         ...\n",
       "2000-03-17   76\n",
       "2000-03-18   77\n",
       "2000-03-19   78\n",
       "2000-03-20   79\n",
       "2000-03-21   80\n",
       "2000-03-22   81\n",
       "2000-03-23   82\n",
       "2000-03-24   83\n",
       "2000-03-25   84\n",
       "2000-03-26   85\n",
       "2000-03-27   86\n",
       "2000-03-28   87\n",
       "2000-03-29   88\n",
       "2000-03-30   89\n",
       "2000-03-31   90\n",
       "2000-04-01   91\n",
       "2000-04-02   92\n",
       "2000-04-03   93\n",
       "2000-04-04   94\n",
       "2000-04-05   95\n",
       "2000-04-06   96\n",
       "2000-04-07   97\n",
       "2000-04-08   98\n",
       "2000-04-09   99\n",
       "2000-04-10  100\n",
       "2000-04-11  101\n",
       "2000-04-12  102\n",
       "2000-04-13  103\n",
       "2000-04-14  104\n",
       "2000-04-15  105\n",
       "\n",
       "[106 rows x 1 columns]"
      ]
     },
     "execution_count": 75,
     "metadata": {},
     "output_type": "execute_result"
    }
   ],
   "source": [
    "df"
   ]
  },
  {
   "cell_type": "code",
   "execution_count": 76,
   "metadata": {},
   "outputs": [],
   "source": [
    "ddf = dd.from_pandas(df, npartitions=1, name='x')"
   ]
  },
  {
   "cell_type": "code",
   "execution_count": 77,
   "metadata": {},
   "outputs": [
    {
     "data": {
      "text/plain": [
       "(Timestamp('2000-01-01 00:00:00', freq='D'),\n",
       " Timestamp('2000-04-15 00:00:00', freq='D'))"
      ]
     },
     "execution_count": 77,
     "metadata": {},
     "output_type": "execute_result"
    }
   ],
   "source": [
    "ddf.divisions"
   ]
  },
  {
   "cell_type": "code",
   "execution_count": 78,
   "metadata": {},
   "outputs": [
    {
     "data": {
      "text/plain": [
       "1"
      ]
     },
     "execution_count": 78,
     "metadata": {},
     "output_type": "execute_result"
    }
   ],
   "source": [
    "ddf.npartitions"
   ]
  },
  {
   "cell_type": "code",
   "execution_count": 82,
   "metadata": {},
   "outputs": [],
   "source": [
    "a = ddf.repartition(freq='21D')"
   ]
  },
  {
   "cell_type": "code",
   "execution_count": 83,
   "metadata": {},
   "outputs": [
    {
     "data": {
      "text/plain": [
       "6"
      ]
     },
     "execution_count": 83,
     "metadata": {},
     "output_type": "execute_result"
    }
   ],
   "source": [
    "a.npartitions"
   ]
  },
  {
   "cell_type": "code",
   "execution_count": 86,
   "metadata": {},
   "outputs": [
    {
     "name": "stdout",
     "output_type": "stream",
     "text": [
      "106\n"
     ]
    }
   ],
   "source": [
    "for i in range(ddf.npartitions):\n",
    "    print(len(ddf.get_partition(i).compute())"
   ]
  },
  {
   "cell_type": "code",
   "execution_count": null,
   "metadata": {},
   "outputs": [],
   "source": []
  }
 ],
 "metadata": {
  "kernelspec": {
   "display_name": "Python [conda env:pangeo]",
   "language": "python",
   "name": "conda-env-pangeo-py"
  },
  "language_info": {
   "codemirror_mode": {
    "name": "ipython",
    "version": 3
   },
   "file_extension": ".py",
   "mimetype": "text/x-python",
   "name": "python",
   "nbconvert_exporter": "python",
   "pygments_lexer": "ipython3",
   "version": "3.6.6"
  }
 },
 "nbformat": 4,
 "nbformat_minor": 2
}
