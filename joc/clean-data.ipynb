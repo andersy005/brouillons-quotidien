{
 "cells": [
  {
   "cell_type": "code",
   "execution_count": 1,
   "id": "509a1d86-15fc-4c4b-b157-56d04f454b48",
   "metadata": {},
   "outputs": [],
   "source": [
    "import pathlib\n",
    "import random\n",
    "import shutil\n",
    "import xml.etree.ElementTree as ET\n",
    "\n",
    "import pandas as pd\n",
    "import sklearn.model_selection\n",
    "import tqdm"
   ]
  },
  {
   "cell_type": "code",
   "execution_count": 2,
   "id": "71231119-3b5c-44a5-95f3-e558e98c9953",
   "metadata": {},
   "outputs": [],
   "source": [
    "root_path = pathlib.Path(\"~/datasets/labeled_mask_dataset/\").expanduser()\n",
    "clean_data_path = root_path / \"data\"\n",
    "clean_train_data_path = clean_data_path / \"train\"\n",
    "clean_test_data_path = clean_data_path / \"test\"\n",
    "clean_train_data_path.mkdir(parents=True, exist_ok=True)\n",
    "clean_test_data_path.mkdir(parents=True, exist_ok=True)"
   ]
  },
  {
   "cell_type": "code",
   "execution_count": 3,
   "id": "7fc87dec-7ba1-42e7-b8f4-35b4be85ed54",
   "metadata": {},
   "outputs": [
    {
     "data": {
      "text/plain": [
       "(1370, 1370, 1370)"
      ]
     },
     "execution_count": 3,
     "metadata": {},
     "output_type": "execute_result"
    }
   ],
   "source": [
    "annotations = sorted((root_path / \"annotations/\").rglob(\"*.xml\"))\n",
    "images = sorted((root_path / \"images/\").rglob(\"*.jpg\"))\n",
    "all_files = list(zip(images, annotations))\n",
    "len(annotations), len(images), len(all_files)"
   ]
  },
  {
   "cell_type": "code",
   "execution_count": 4,
   "id": "af4e6b3a-8790-4d23-ab48-694c4e66ceb8",
   "metadata": {},
   "outputs": [
    {
     "data": {
      "text/plain": [
       "(1096, 274)"
      ]
     },
     "execution_count": 4,
     "metadata": {},
     "output_type": "execute_result"
    }
   ],
   "source": [
    "train, test = sklearn.model_selection.train_test_split(all_files, test_size=0.2, random_state=42)\n",
    "len(train), len(test)"
   ]
  },
  {
   "cell_type": "code",
   "execution_count": 5,
   "id": "b5475007-a1d8-42fb-b92e-712381cfbd99",
   "metadata": {},
   "outputs": [
    {
     "name": "stderr",
     "output_type": "stream",
     "text": [
      "100%|███████████████████████████████████████████████████████████████████████████████████████████████████████████████████| 274/274 [00:00<00:00, 3360.28it/s]\n",
      "100%|█████████████████████████████████████████████████████████████████████████████████████████████████████████████████| 1096/1096 [00:00<00:00, 4161.40it/s]\n"
     ]
    }
   ],
   "source": [
    "def create_clean_data(subset, path):\n",
    "    annotations_path = path / \"annotations\"\n",
    "    images_path = path / \"images\"\n",
    "\n",
    "    annotations_path.mkdir(parents=True, exist_ok=True)\n",
    "    images_path.mkdir(parents=True, exist_ok=True)\n",
    "\n",
    "    for image_source, annotation_source in tqdm.tqdm(subset):\n",
    "        image_destination = images_path / image_source.name\n",
    "        annotation_destination = annotations_path / annotation_source.name\n",
    "        shutil.copyfile(image_source, image_destination)\n",
    "        shutil.copyfile(annotation_source, annotation_destination)\n",
    "\n",
    "\n",
    "create_clean_data(test, clean_test_data_path)\n",
    "create_clean_data(train, clean_train_data_path)"
   ]
  },
  {
   "cell_type": "code",
   "execution_count": 6,
   "id": "0b884bc3-5960-4cc4-8de0-304cb03725bd",
   "metadata": {},
   "outputs": [],
   "source": [
    "def xml_to_csv(annotations):\n",
    "\n",
    "    files = annotations.rglob(\"*.xml\")\n",
    "\n",
    "    classes_names = []\n",
    "    xml_list = []\n",
    "\n",
    "    for xml_file in files:\n",
    "        tree = ET.parse(xml_file)\n",
    "        root = tree.getroot()\n",
    "        for member in root.findall(\"object\"):\n",
    "            classes_names.append(member[0].text)\n",
    "            value = (\n",
    "                root.find(\"filename\").text,\n",
    "                int(root.find(\"size\")[0].text),\n",
    "                int(root.find(\"size\")[1].text),\n",
    "                member[0].text,\n",
    "                int(member[4][0].text),\n",
    "                int(member[4][1].text),\n",
    "                int(member[4][2].text),\n",
    "                int(member[4][3].text),\n",
    "            )\n",
    "            xml_list.append(value)\n",
    "    column_name = [\"filename\", \"width\", \"height\", \"class\", \"xmin\", \"ymin\", \"xmax\", \"ymax\"]\n",
    "    xml_df = pd.DataFrame(xml_list, columns=column_name)\n",
    "    classes_names = list(set(classes_names))\n",
    "    classes_names.sort()\n",
    "\n",
    "    return xml_df, classes_names\n",
    "\n",
    "\n",
    "train_df, train_classes = xml_to_csv(clean_train_data_path / \"annotations\")\n",
    "test_df, test_classes = xml_to_csv(clean_test_data_path / \"annotations\")"
   ]
  },
  {
   "cell_type": "code",
   "execution_count": 7,
   "id": "ec15d01b-726b-4a44-a71d-857f063f3af4",
   "metadata": {},
   "outputs": [],
   "source": [
    "train_df.to_csv(clean_train_data_path / \"labels.csv\", index=False)\n",
    "test_df.to_csv(clean_test_data_path / \"labels.csv\", index=False)"
   ]
  },
  {
   "cell_type": "code",
   "execution_count": 8,
   "id": "638d5abb-3552-4365-9d6d-b47d8b8a684e",
   "metadata": {},
   "outputs": [],
   "source": [
    "pbtxt_content = \"\"\n",
    "for i, class_name in enumerate(test_classes):\n",
    "    pbtxt_content = pbtxt_content + \"item {{\\n    id: {0}\\n    name: '{1}'\\n}}\\n\\n\".format(\n",
    "        i + 1, class_name\n",
    "    )\n",
    "pbtxt_content = pbtxt_content.strip()\n",
    "with open(clean_data_path / \"label_map.pbtxt\", \"w\") as f:\n",
    "    f.write(pbtxt_content)"
   ]
  },
  {
   "cell_type": "code",
   "execution_count": null,
   "id": "b2bf8cf9-a24f-45a5-99f7-b17ec63c3521",
   "metadata": {},
   "outputs": [],
   "source": []
  }
 ],
 "metadata": {
  "kernelspec": {
   "display_name": "Python 3 (ipykernel)",
   "language": "python",
   "name": "python3"
  },
  "language_info": {
   "codemirror_mode": {
    "name": "ipython",
    "version": 3
   },
   "file_extension": ".py",
   "mimetype": "text/x-python",
   "name": "python",
   "nbconvert_exporter": "python",
   "pygments_lexer": "ipython3",
   "version": "3.9.13"
  }
 },
 "nbformat": 4,
 "nbformat_minor": 5
}
